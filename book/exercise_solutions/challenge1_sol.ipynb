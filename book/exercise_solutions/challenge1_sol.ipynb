{
 "cells": [
  {
   "cell_type": "markdown",
   "metadata": {},
   "source": [
    "### Stealing a bitcoin transaction — 100\n",
    "\n",
    "We are given the Bitcoin testnet transaction hash:\n",
    "[23c9470a2269cf6430569afdd3e2e8f35f633b6cdbc34107ddbab932c4146ba3](https://blockstream.info/testnet/tx/23c9470a2269cf6430569afdd3e2e8f35f633b6cdbc34107ddbab932c4146ba3)\n",
    "* Goal: We want to know how to spent this tBTC output.\n",
    "* Hint: The unlocking script (scriptSig) can be find in 8 Byte of HEX and can be converted to Cleartext ASCII.\n",
    "\n",
    "Hints:\n",
    "1. Find the SCRIPTPUBKEY that locks the output value\n",
    "2. Understand how the input must look like, to unlock this locking script.\n",
    "3. HINT: check the adress where this transaction comes from.\n",
    "4. HINT2: find other adresses that received transactions from the initial adress and see if the adress already unlocked the same UTXO on a different transaction and used the same unlock script (scriptsig)\n",
    "\n"
   ]
  },
  {
   "cell_type": "code",
   "execution_count": null,
   "metadata": {},
   "outputs": [],
   "source": [
    "# 1. BTC Transaction in 23c9470a2269cf6430569afdd3e2e8f35f633b6cdbc34107ddbab932c4146ba3\n",
    "# Hint: https://en.bitcoin.it/wiki/Script\n",
    "# https://opcodeexplained.com/script/asm.html"
   ]
  },
  {
   "cell_type": "code",
   "execution_count": 15,
   "metadata": {},
   "outputs": [
    {
     "name": "stdout",
     "output_type": "stream",
     "text": [
      "Output Script (ASM): aa2064c9e17ec60cd8e074aa24fdb533b3147b651cc18d7c9bcd6b00ef483affc22f87\n",
      "Removed OPCodes: 64c9e17ec60cd8e074aa24fdb533b3147b651cc18d7c9bcd6b00ef483affc22f87\n"
     ]
    }
   ],
   "source": [
    "from blockcypher import get_transaction_details\n",
    "\n",
    "# Transaction hash\n",
    "tx_hash = \"23c9470a2269cf6430569afdd3e2e8f35f633b6cdbc34107ddbab932c4146ba3\"\n",
    "\n",
    "# Fetch transaction details\n",
    "tx_details = get_transaction_details(tx_hash, coin_symbol='btc-testnet')\n",
    "\n",
    "# Extract the output script\n",
    "for output in tx_details['outputs']:\n",
    "    script_asm = output['script']\n",
    "    print(f\"Output Script (ASM): {script_asm}\")\n",
    "    print(f\"Removed OPCodes: {script_asm.replace('aa20', '')}\")\n",
    "\n",
    "# OP_HASH256 OP_PUSHBYTES_32 64c9e17ec60cd8e074aa24fdb533b3147b651cc18d7c9bcd6b00ef483affc22f\n",
    "# This script means that to spend this output, you need to provide an input that, when hashed twice using SHA-256, matches the given 32-byte hash.\n"
   ]
  },
  {
   "cell_type": "code",
   "execution_count": null,
   "metadata": {},
   "outputs": [],
   "source": [
    "# Task 2: \n",
    "# Next step:\n",
    "# We know the output: OP_HASH256 64c9e17ec60cd8e074aa24fdb533b3147b651cc18d7c9bcd6b00ef483affc22f OP_EQUAL\n",
    "# This means you need to find an input that, when hashed twice with SHA-256, have to equal 64c9e17ec60cd8e074aa24fdb533b3147b651cc18d7c9bcd6b00ef483affc22f.\n",
    "\n",
    "\n",
    "#  2.1 Next step Get the funding adress\n",
    "#  Look at the transactions of the address that funded the given transaction. This might help you find a related transaction with a custom script that could contain the input you need.\n",
    "\n",
    "\n",
    "# 2.2 Check Similar Scripts\n",
    "# Look for transactions with similar scripts. If you find a transaction with the same script, it might contain the input you're looking for."
   ]
  },
  {
   "cell_type": "code",
   "execution_count": 20,
   "metadata": {},
   "outputs": [
    {
     "name": "stdout",
     "output_type": "stream",
     "text": [
      "065303d56ca16a47959b843922bb8179014eab6b8ef7ee0608b2b39cac963feb\n"
     ]
    }
   ],
   "source": [
    "# 2.3 Decode\n",
    "# If you find a transaction with the same script, decode the input to see if it matches the desired value when double-hashed with SHA-256.\n"
   ]
  },
  {
   "cell_type": "code",
   "execution_count": 2,
   "metadata": {},
   "outputs": [
    {
     "name": "stdout",
     "output_type": "stream",
     "text": [
      "coinbase\n"
     ]
    }
   ],
   "source": [
    "# Convert the SCRIPTSIG to ASCII\n",
    "\n",
    "import binascii\n",
    "\n",
    "hex_string = \"636f696e62617365\"\n",
    "decoded_string = binascii.unhexlify(hex_string).decode('utf-8')\n",
    "print(decoded_string)\n",
    "\n",
    "# Alternative https://www.rapidtables.com/convert/number/hex-to-ascii.html"
   ]
  },
  {
   "cell_type": "markdown",
   "metadata": {},
   "source": [
    "### Solution\n",
    "\n",
    "\n",
    "We are given the Bitcoin testnet transaction hash \n",
    "\n",
    "https://blockstream.info/testnet/tx/23c9470a2269cf6430569afdd3e2e8f35f633b6cdbc34107ddbab932c4146ba3\n",
    "23c9470a2269cf6430569afdd3e2e8f35f633b6cdbc34107ddbab932c4146ba3 \n",
    "\n",
    "and we have to find how to spend the output.\n",
    "\n",
    "The output script is OP_HASH256 64c9e17ec60cd8e074aa24fdb533b3147b651cc18d7c9bcd6b00ef483affc22f OP_EQUAL, so we need to find an input which gives the desired value when double hashed with sha256.\n",
    "\n",
    "Several possibilities : \n",
    "* try to guess the password or bruteforce it\n",
    "* simply look at the transactions of the funding address\n",
    "  * find interesting ones coming from custom scripts. And one is the same locking script, so the flag is in this transaction encoded in hex\n",
    "\n",
    "\n",
    "https://blockstream.info/testnet/address/my3zveqVpM4KJQtGBxeqEXH6uawkpNx7mG\n",
    "send also this tx:\n",
    "https://blockstream.info/testnet/tx/d2fb9169cf369657f7ef16569f98c5666dc8d53b09e84cf0d6f46b40dad67936\n",
    "SCRIPTSIG (ASM)\tOP_PUSHBYTES_8 636f696e62617365\n",
    "SCRIPTSIG (HEX)\t08636f696e62617365\n",
    "NSEQUENCE\t0xffffffff\n",
    "PREVIOUS OUTPUT SCRIPT\tOP_HASH256 OP_PUSHBYTES_32 64c9e17ec60cd8e074aa24fdb533b3147b651cc18d7c9bcd6b00ef483affc22f OP_EQUAL (unknown)\n",
    "\n",
    "\n",
    "\n",
    "This Transaction pushes 8 Byte onto the Chain 636f696e62617365\n",
    "\n",
    "When you convert this HEX to ASCII it gives you the flag coinbase"
   ]
  }
 ],
 "metadata": {
  "kernelspec": {
   "display_name": "venv",
   "language": "python",
   "name": "python3"
  },
  "language_info": {
   "codemirror_mode": {
    "name": "ipython",
    "version": 3
   },
   "file_extension": ".py",
   "mimetype": "text/x-python",
   "name": "python",
   "nbconvert_exporter": "python",
   "pygments_lexer": "ipython3",
   "version": "3.12.3"
  }
 },
 "nbformat": 4,
 "nbformat_minor": 2
}
