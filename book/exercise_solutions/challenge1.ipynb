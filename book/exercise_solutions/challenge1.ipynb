{
 "cells": [
  {
   "cell_type": "markdown",
   "metadata": {},
   "source": [
    "### CTF\n",
    "\n",
    "Enter flags here: [Blocksec UUlm CTF](https://blocksec.pythonanywhere.com)\n"
   ]
  },
  {
   "cell_type": "markdown",
   "metadata": {},
   "source": [
    "### Stealing a bitcoin transaction — 100\n",
    "\n",
    "We are given the Bitcoin testnet transaction hash:\n",
    "[23c9470a2269cf6430569afdd3e2e8f35f633b6cdbc34107ddbab932c4146ba3](https://blockstream.info/testnet/tx/23c9470a2269cf6430569afdd3e2e8f35f633b6cdbc34107ddbab932c4146ba3)\n",
    "* Goal: We want to know **how to spent this tBTC output**.\n",
    "* Hint: The unlocking script (scriptSig) can be find in 8 Byte of HEX and can be converted to Cleartext ASCII.\n",
    "\n",
    "Hints:\n",
    "1. Find the SCRIPTPUBKEY that locks the output value\n",
    "2. Understand how the input must look like, to unlock this locking script.\n",
    "3. Find a way and search for hints to unlock the transaction with the (scriptSig)\n"
   ]
  },
  {
   "cell_type": "code",
   "execution_count": 5,
   "metadata": {},
   "outputs": [
    {
     "name": "stdout",
     "output_type": "stream",
     "text": [
      "helloworld\n"
     ]
    }
   ],
   "source": [
    "\"\"\"\n",
    "Helpful functions for the challenge.\n",
    "# Alternative https://www.rapidtables.com/convert/number/hex-to-ascii.html\n",
    "\"\"\"\n",
    "import binascii\n",
    "\n",
    "hex_string = \"68656C6C6F776F726C64\"\n",
    "decoded_string = binascii.unhexlify(hex_string).decode('utf-8')\n",
    "print(decoded_string)"
   ]
  }
 ],
 "metadata": {
  "kernelspec": {
   "display_name": "venv",
   "language": "python",
   "name": "python3"
  },
  "language_info": {
   "codemirror_mode": {
    "name": "ipython",
    "version": 3
   },
   "file_extension": ".py",
   "mimetype": "text/x-python",
   "name": "python",
   "nbconvert_exporter": "python",
   "pygments_lexer": "ipython3",
   "version": "3.12.4"
  }
 },
 "nbformat": 4,
 "nbformat_minor": 2
}
