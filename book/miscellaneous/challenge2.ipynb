{
 "cells": [
  {
   "cell_type": "markdown",
   "metadata": {},
   "source": [
    "### CTF\n",
    "\n",
    "Enter flags here: [Blocksec UUlm CTF](https://blocksec.pythonanywhere.com)\n"
   ]
  },
  {
   "cell_type": "markdown",
   "metadata": {},
   "source": [
    "### Dark Net Money — 200\n",
    "\n",
    "You are given the following mnemonic phrase:\n",
    "```\n",
    "play fever bullet unlock error palm insect pottery tower torch memory liquid\n",
    "```\n",
    "\n",
    "Your task is to find how much tBTC this wallet holds unspent.\n",
    "\n",
    "**Hint**: The correct derivation path follows the classic BIP44 scheme. You need to find the receiving address of the first account at a specific index.\n",
    "\n",
    "Use the mnemonic phrase on a well-known BIP39 tool.\n",
    "\n",
    "This could be helpful:\n",
    "1. You need to select Bitcoin Testnet as the coin type.\n",
    "2. The derivation path is m/44'/1'/0'/0/137. [Documentation](https://learnmeabitcoin.com/technical/keys/hd-wallets/derivation-paths/#:~:text=A%20derivation%20path%20provides%20the,more%20children%2C%20and%20so%20on.).\n",
    "\n",
    "\n",
    "For the developers:\n",
    "\n",
    "```python\n",
    "from mnemonic import Mnemonic\n",
    "from bip_utils import Bip39SeedGenerator, Bip44, Bip44Coins, Bip44Changes\n",
    "````\n",
    "\n",
    "Alternatively for the tool users:\n",
    "* [Mnemonic Code Converter](https://iancoleman.io/bip39/).\n",
    "\n"
   ]
  }
 ],
 "metadata": {
  "kernelspec": {
   "display_name": "venv",
   "language": "python",
   "name": "python3"
  },
  "language_info": {
   "codemirror_mode": {
    "name": "ipython",
    "version": 3
   },
   "file_extension": ".py",
   "mimetype": "text/x-python",
   "name": "python",
   "nbconvert_exporter": "python",
   "pygments_lexer": "ipython3",
   "version": "3.12.4"
  }
 },
 "nbformat": 4,
 "nbformat_minor": 2
}
