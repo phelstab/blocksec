{
 "cells": [
  {
   "cell_type": "markdown",
   "metadata": {},
   "source": [
    "### Dark Net Money — 200\n",
    "\n",
    "You are given the following mnemonic phrase:\n",
    "```\n",
    "play fever bullet unlock error palm insect pottery tower torch memory liquid\n",
    "```\n",
    "\n",
    "Your task is to find how much tBTC this wallet holds unspent.\n",
    "\n",
    "**Hint**: The correct derivation path follows the classic BIP44 scheme. You need to find the receiving address of the first account at a specific index.\n",
    "\n",
    "Use the mnemonic phrase on a well-known BIP39 tool.\n",
    "\n",
    "This could be helpful:\n",
    "1. You need to select Bitcoin Testnet as the coin type.\n",
    "2. The derivation path is m/44'/1'/0'/0/137. [Documentation](https://learnmeabitcoin.com/technical/keys/hd-wallets/derivation-paths/#:~:text=A%20derivation%20path%20provides%20the,more%20children%2C%20and%20so%20on.).\n",
    "\n",
    "\n",
    "For the developers:\n",
    "\n",
    "```python\n",
    "from mnemonic import Mnemonic\n",
    "from bip_utils import Bip39SeedGenerator, Bip44, Bip44Coins, Bip44Changes\n",
    "````\n",
    "\n",
    "Alternatively for the tool users:\n",
    "* [Mnemonic Code Converter](https://iancoleman.io/bip39/).\n",
    "\n"
   ]
  },
  {
   "cell_type": "code",
   "execution_count": 21,
   "metadata": {},
   "outputs": [
    {
     "name": "stdout",
     "output_type": "stream",
     "text": [
      "Address: mygH814iJuKrg7tCY2fspCCpxtU3jrzDsd\n",
      "Public Key: 02846f2e9994d89923d4e9000bc081a411aaed52dfa84c9aa58baf05885c6fa5ba\n",
      "Private Key: cN776hFeDaiWfWRHNHRj6LvGPcPkXFF3dzxSfGtPnNtArZbJNnWY\n"
     ]
    }
   ],
   "source": [
    "from mnemonic import Mnemonic\n",
    "from bip_utils import Bip39SeedGenerator, Bip44, Bip44Coins, Bip44Changes\n",
    "\n",
    "# Given mnemonic phrase\n",
    "mnemonic_phrase = \"play fever bullet unlock error palm insect pottery tower torch memory liquid\"\n",
    "\n",
    "# Initialize Mnemonic object\n",
    "mnemo = Mnemonic(\"english\")\n",
    "\n",
    "# Generate seed from mnemonic phrase\n",
    "seed = Bip39SeedGenerator(mnemonic_phrase).Generate()\n",
    "\n",
    "# Initialize BIP44 object for testnet\n",
    "bip44_mst = Bip44.FromSeed(seed, Bip44Coins.BITCOIN_TESTNET)\n",
    "\n",
    "# Derive the key for the given path: m/44'/1'/0'/0/137\n",
    "bip44_acc = bip44_mst.Purpose().Coin().Account(0)\n",
    "bip44_chg = bip44_acc.Change(Bip44Changes.CHAIN_EXT)\n",
    "bip44_addr = bip44_chg.AddressIndex(137)\n",
    "\n",
    "# Get the address\n",
    "address = bip44_addr.PublicKey().ToAddress()\n",
    "public_key = bip44_addr.PublicKey().RawCompressed().ToHex()\n",
    "private_key = bip44_addr.PrivateKey().ToWif()\n",
    "\n",
    "print(f\"Address: {address}\")\n",
    "print(f\"Public Key: {public_key}\")\n",
    "print(f\"Private Key: {private_key}\")\n"
   ]
  },
  {
   "cell_type": "markdown",
   "metadata": {},
   "source": [
    "Solution:\n",
    "\n",
    "Hide and Seek — 200\n",
    "We are given the mnemonic phrase  and we need to find a hidden testnet transaction corresponding to this phrase.\n",
    "\n",
    "A mnemonic phrase can generate a lot of different addresses depending on the chosen derivation path. So we have to find the right one.\n",
    "\n",
    "It is not that hard because the right derivation path is not exotic, it follows the classic scheme, it’s simply the receiving address of the first account at index 137.\n",
    "\n",
    "You can type the mnemonic phrase on this well known website, choose Bitcoin Testnet and click on more rows until you find the derivation path : m/44'/1'/0'/0/137 , corresponding to the address : mygH814iJuKrg7tCY2fspCCpxtU3jrzDsd\n",
    "\n",
    "Flag : 0.00179362"
   ]
  },
  {
   "cell_type": "markdown",
   "metadata": {},
   "source": [
    "### TO BE EXPLAINED:\n",
    "A mnemonic can create many adresses which the adress can receive for example bitcoin.\n",
    "\n",
    "A mnemonic phrase (also known as a seed phrase) can generate many addresses due to the hierarchical deterministic (HD) wallet structure defined by standards like BIP32, BIP39, and BIP44. Here's a more detailed explanation:\n"
   ]
  }
 ],
 "metadata": {
  "kernelspec": {
   "display_name": "venv",
   "language": "python",
   "name": "python3"
  },
  "language_info": {
   "codemirror_mode": {
    "name": "ipython",
    "version": 3
   },
   "file_extension": ".py",
   "mimetype": "text/x-python",
   "name": "python",
   "nbconvert_exporter": "python",
   "pygments_lexer": "ipython3",
   "version": "3.12.3"
  }
 },
 "nbformat": 4,
 "nbformat_minor": 2
}
