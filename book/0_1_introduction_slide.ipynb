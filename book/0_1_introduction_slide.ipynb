{
 "cells": [
  {
   "cell_type": "markdown",
   "metadata": {},
   "source": [
    "# Introduction"
   ]
  },
  {
   "cell_type": "markdown",
   "metadata": {},
   "source": [
    "<h2 style=\"text-align: center\">\n",
    "Blockchain - the all-purpose weapon, just a buzzword or hacker's paradise?\n",
    "</h2>"
   ]
  },
  {
   "cell_type": "markdown",
   "metadata": {},
   "source": [
    "## Agenda\n",
    "\n",
    "* Overview of blockchain technology\n",
    "* Security aspects & technical fundamentals\n",
    "* Blockchain attack vectors\n",
    "* Hands-on exercises"
   ]
  },
  {
   "cell_type": "markdown",
   "metadata": {},
   "source": [
    "## Overview"
   ]
  },
  {
   "cell_type": "markdown",
   "metadata": {},
   "source": [
    "<div class=\"alert alert-info\"><b>INFO</b><br />\n",
    "Initial concept originally introduced in 2008 by (anonymous) Satoshi Nakamoto to provide a solution to double-spending problem\n",
    "</div>\n",
    "\n",
    "* **Definition**:\n",
    "  * peer-to-peer, fault-tolerant, decentralized ledger system that records all transactions across a network of computers {cite}`bitcoinhistory:online,bitcoin:article,Glaser2017_1000073702:inproceedings`"
   ]
  },
  {
   "cell_type": "markdown",
   "metadata": {},
   "source": [
    "* **Key Characteristics**:\n",
    "  * Immutable: Once recorded, data cannot be altered\n",
    "  * Transparent: Transactions are visible to all participants\n",
    "  * Decentralized: No central authority\n",
    "  * Secure: Uses cryptographic techniques for security\n",
    "  * Consensus: Agreement among participants on the validity of transactions\n"
   ]
  },
  {
   "cell_type": "markdown",
   "metadata": {},
   "source": [
    "## Development of Blockchain"
   ]
  },
  {
   "cell_type": "markdown",
   "metadata": {},
   "source": [
    "THE Blockchain does not exist - there are different types and generations of blockchains"
   ]
  },
  {
   "cell_type": "markdown",
   "metadata": {},
   "source": [
    "* Blockchain 1.0: Cryptocurrency {cite}`vokerla:inproceedings`\n",
    "  * permissionless, public blockchains\n",
    "  * main use case: digital currency\n",
    "* Blockchain 2.0: Smart Contracts\n",
    "  * lack of scalability and privacy in Blockchain 1.0 led to the development of Blockchain 2.0\n",
    "  * introduction of smart contracts\n",
    "    * simple “if/when…then…” statements that are written into code on a blockchain which are executed when all conditions are met\n",
    "  * main use case: trade finance, supply chain management, digital ownership\n",
    "* Blockchain 3.0: Decentralized Applications (DApps)\n",
    "  * extension of Blockchain 2.0 allowing for decentralized applications\n",
    "    * blockchain-based applications that run on a peer-to-peer network\n",
    "* Onwards:\n",
    "  * Blockchain in industry and governments (IoT, healthcare, finance, etc.) {cite}`9086611:article`\n",
    "  * Interoperability between blockchains \n",
    "  * Scalability solutions (sharding, side chains, etc.)\n",
    "  * Privacy improvements (zk-SNARKs, etc.) {cite}`Nitulescu2020zkSNARKsAG:inproceedings`"
   ]
  },
  {
   "cell_type": "markdown",
   "metadata": {},
   "source": [
    "## Relevance and Use Cases"
   ]
  },
  {
   "cell_type": "markdown",
   "metadata": {},
   "source": [
    "* Financial Services:\n",
    "  * Cross-border payments\n",
    "  * Decentralized finance (DeFi)\n",
    "* Supply Chain Management: {cite}`9076162:article`\n",
    "  * Transparency and traceability\n",
    "  * Counterfeit prevention\n",
    "* Healthcare:\n",
    "  * Patient data management\n",
    "  * Drug traceability\n",
    "* Other applications:\n",
    "  * Voting systems\n",
    "  * Digital identity\n",
    "  * Intellectual property rights\n",
    "  * Real estate\n",
    "  * Energy trading {cite}`MENGELKAMP2018870:article`"
   ]
  }
 ],
 "metadata": {
  "language_info": {
   "name": "python"
  }
 },
 "nbformat": 4,
 "nbformat_minor": 2
}
