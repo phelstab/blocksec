{
 "cells": [
  {
   "cell_type": "markdown",
   "metadata": {},
   "source": [
    "# Attack Vectors on Blockchains"
   ]
  },
  {
   "cell_type": "markdown",
   "metadata": {},
   "source": [
    "* \"Blockchain technology can solve all our future problems while ensuring security and privacy\"\n",
    "  * Well, no\n",
    "* Blockchains are not immune to attacks (like any IT system)\n",
    "  * Various attack vectors exist {cite}`9019870:article`\n",
    "  * Understanding these vectors is crucial for developers and users\n",
    "  * Blockchain \"hype\" led to a false sense of security\n",
    "  * According to SlowMist, there were a total of 464 security incidents in 2023, with losses amounting to $2.486 billion {cite}`mediumAnalysisSlowMist:online` \n",
    "    * over 1.7 Billion USD stolen alone in crypto thefts alone \n",
    "    * https://hacked.slowmist.io/en/"
   ]
  },
  {
   "cell_type": "markdown",
   "metadata": {},
   "source": [
    "## Overview of common attacks\n",
    "<img src=\"../_static/images/Blockchain_Attack_Overview.jpg\">"
   ]
  },
  {
   "cell_type": "markdown",
   "metadata": {},
   "source": [
    "## Types of Attacks\n",
    "\n",
    "* König et al. divided attacks into four categories {cite}`konig2020risks`\n",
    "  * Blockchain Structure Vulnerabilities\n",
    "  * Attacks on the Consensus Mechanism\n",
    "  * Application Oriented Attacks\n",
    "  * Network Layer Attacks"
   ]
  },
  {
   "cell_type": "markdown",
   "metadata": {},
   "source": [
    "### Blockchain Structure Vulnerabilities\n",
    "\n",
    "* one of the most fundamental risks of blockchain technology\n",
    "* Primarily target integrity, security and availability of the blockchain foundation\n",
    "* Attacks exploit flaws in the fundamental design and implementation of the blockchain\n",
    "  * protocols, data structures, transaction processing and recording\n",
    "* byproduct of the technology\n",
    "* **Examples**:\n",
    "  * Blockchain Forks (Soft and Hard Forks, sometimes intentional (DAO Hack revert), sometimes accidental)\n",
    "  * Stale and Orphaned Blocks"
   ]
  },
  {
   "cell_type": "markdown",
   "metadata": {},
   "source": [
    "### Attacks on the Consensus Mechanism\n",
    "\n",
    "  * Attacks exploit flaws in the consensus mechanism of the blockchain\n",
    "  * target the agreement among participants on the validity of transactions\n",
    "  * **Examples**:\n",
    "    * 51% Attack\n",
    "    * Selfish Mining\n",
    "    * Nothing at Stake Attack\n",
    "    * Finney Attack\n"
   ]
  },
  {
   "cell_type": "markdown",
   "metadata": {},
   "source": [
    "### Application Oriented Attacks\n",
    "\n",
    "  * Attacks exploit vulnerabilities in the applications built on top of the blockchain\n",
    "    * smart contracts, decentralized applications, wallets, etc.\n",
    "  * they exploit the application's logic and not the blockchain itself\n",
    "  * outcome heavily depends on the application's design and implementation\n",
    "  * **Examples**:\n",
    "    * Timejacking\n",
    "    * Replay Attacks\n",
    "    * Attacks on Smart Contracts and DApps (Overflow attacks, (D)Dos attacks, etc.)"
   ]
  },
  {
   "cell_type": "markdown",
   "metadata": {},
   "source": [
    "### Network Layer Attacks\n",
    "  * Attacks exploit vulnerabilities in the peer-to-peer network (the backbone of blockchain technology)\n",
    "  * network attacks nothing new, however distributed nature of blockchain networks further complicates them\n",
    "  * attacks aim to disrupt communication, isolate node or manipulate transmissions\n",
    "  * **Examples**:\n",
    "    * Eclipse Attack\n",
    "    * Block Withholding Attack\n",
    "    * Sybil Attack\n"
   ]
  }
 ],
 "metadata": {
  "language_info": {
   "name": "python"
  }
 },
 "nbformat": 4,
 "nbformat_minor": 2
}
