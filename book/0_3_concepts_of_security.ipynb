{
 "cells": [
  {
   "cell_type": "markdown",
   "metadata": {},
   "source": [
    "# 3. Security Aspects and Technical Fundamentals of Blockchain Technology <!-- (*20 Minuten*) -->\n",
    "\n",
    "## The Idea\n",
    "The core idea is to provide a system that is through\n",
    "\n",
    "<!-- Die Kernidee hinter der Blockchain liegt darin ein System zu schaffen das es ermöglicht komplett Dezentral und somit ohne jegliche Intermediäre und damit auch ohne Treuhänder, Transaktionen zwischen Agenten zu ermöglichen.  -->\n",
    "The core idea behind blockchain technology is to create a decentralized system that allows transactions between parties (agents) without the need for intermediaries or trusted third parties.\n",
    "<!-- Dabei übernehmen Mathematische Modelle die auf der Berechenbarkeit und Komplexität Kryptographische verschlüsselungen ermgöglichen, die Aufgaben eines Intermediärs und verteilen diese Aufgaben auf alle Agenten die Teil des Systems sind auch wenn diese eine Aufgabe erhalten die nicht ihrer eigenen Transaktion dient. -->\n",
    "Mathematical models that enable cryptographic encryption based on computability and complexity take on the tasks of an intermediary. The system itself distribute these tasks to all agents in the system, even if they receive a task that is not related to their own transactions.\n",
    "\n",
    "It is replaced as follows:\n",
    "| The Object | Centralized FIAT Object | Blockchain |\n",
    "|-----------|-----------|-----------|\n",
    "| The Storage of Value | Bank Account / Physical Wallet | Public + Private Key linked to realised transactions held by all participants in the system |\n",
    "| Transaction | (Digital) Transaction through trustee (middleman) or physical handover between parties | Publishing that an object, has a new owner by its current owner to the whole system through a cryptographic signature |\n"
   ]
  },
  {
   "cell_type": "markdown",
   "metadata": {},
   "source": [
    "### 3.1.1 Cryptographic Hash Functions\n",
    "Because the concept of blockchains is built on different aspects of computation theory, cryptography, and distributed computing, we will start with the core aspects that form a blockchain and begin with the *cryptographic hash functions*.\n",
    "\n",
    "This is a more uncommon approach in science, but we want to first define what properties our hash functions must hold so they can be used in common blockchains, and we will understand the \"Why?\" later when everything comes together.\n",
    "\n",
    "#### Computation\n",
    "**Computational Property 1: *Input Flexibility***\n",
    "  * The input can be any string of any size.\n",
    "\n",
    "**Computational Property 2: *Fixed-Sized Output***\n",
    "  * The function produces a fixed-sized output.\n",
    "  * For this discussion, a 256-bit output size is assumed, but the property holds for any sufficiently large output size.\n",
    "\n",
    "**Computational Property 3: *Efficient Computability***\n",
    "  * The hash function is efficiently computable, meaning that for a given input string, the output can be determined in a reasonable amount of time.\n",
    "  * Technically, computing the hash of an n-bit string should have a running time of O(n).\n",
    "\n",
    "\n",
    "#### Cryptography\n",
    "**Cryptographic Property 1: *Collision Resistance***\n",
    "\n",
    "**Definition:** A hash function \\( H \\) is said to be collision resistant if it is infeasible to find two values, \\( x \\) and \\( y \\), such that \\( x \\neq y \\), yet \\( H(x) = H(y) \\).\n",
    "\n",
    "*Why we need this?* \n",
    "  * We need collision resistance to ensure that it is infeasible to find two different inputs that produce the same hash output.\n",
    "  * This is crucial for maintaining data integrity and preventing forgery.\n",
    "\n",
    "*Example:* \n",
    "  * When a transaction is created, it is hashed to produce a transaction ID.\n",
    "  * If an attacker could find two different transactions that produce the same hash (collision), they could potentially replace a legitimate transaction with a fraudulent one without being detected.\n",
    "  * This would undermine the integrity of the blockchain.\n",
    "\n",
    "**Cryptographic Property 2: *Hiding***\n",
    "\n",
    "**Definition:** A hash function \\( H \\) is said to be hiding if, when a secret value \\( r \\) is chosen from a probability distribution that has high min-entropy, then, given \\( H(r \\parallel x) \\), it is infeasible to find \\( x \\).\n",
    "\n",
    "*Why we need this?* \n",
    "  * We need the hiding property to ensure that given a hash output, it is infeasible to determine the original input.\n",
    "  * This is essential for preserving the confidentiality of the input data.\n",
    "\n",
    "*Example:* \n",
    "  * The hiding property ensures that the nonce and other block header data cannot be easily deduced from the hash output.\n",
    "  * Maintains the difficulty and security of the mining process.\n",
    "\n",
    "**Cryptographic Property 3: *Puzzle Friendliness***\n",
    "\n",
    "**Definition:** A hash function \\( H \\) is said to be puzzle friendly if for every possible \\( n \\)-bit output value \\( y \\), if \\( k \\) is chosen from a distribution with high min-entropy, then it is infeasible to find \\( x \\) such that \\( H(k \\| x) = y \\) in time significantly less than \\( 2^n \\).\n",
    "\n",
    "*Why we need this?* \n",
    "  * Puzzle friendliness ensures that solving the hash function requires a brute-force search.\n",
    "  * Prevents shortcuts and maintains the security of cryptographic protocols.\n",
    "\n",
    "*Example:*\n",
    "  * In Bitcoin mining:\n",
    "    * Miners must find a nonce such that the hash of the block header concatenated with the nonce produces a hash with a certain number of leading zeros.\n",
    "    * Puzzle friendliness ensures there are no shortcuts to finding this nonce.\n",
    "    * Maintains the difficulty and security of the mining process.\n",
    "\n",
    "\n",
    "### 3.1.2 Hash Pointers\n",
    "The next thing we need are so called Hash Pointers. Imagine a Linked List"
   ]
  },
  {
   "cell_type": "code",
   "execution_count": null,
   "metadata": {},
   "outputs": [],
   "source": [
    "from linked_list import LinkedList\n",
    "\n",
    "ll = LinkedList()\n",
    "ll.append(\"Beta\")\n",
    "ll.append(\"Alpha\")\n",
    "ll.append(\"Delta\")\n",
    "ll.append(\"Gamma\")\n",
    "\n",
    "ll.print_list()"
   ]
  },
  {
   "cell_type": "markdown",
   "metadata": {},
   "source": [
    "* **Problem: Ensuring Static Linkage of Values**\n",
    "  * We need to ensure that values are statically linked together.\n",
    "  * We want to make sure that we cannot change any value in the middle of the linked list without changing every value before the changed one.\n",
    "\n",
    "* **Solution: Hash Pointers**\n",
    "  * Hash Pointers connect a hash of the previous node's data to the current node.\n",
    "  * Any change in the data of a node will affect the hash, and thus the hash pointer in the next node.\n",
    "  * This creates a chain reaction, ensuring data integrity.\n",
    "\n",
    "* **Visualization:**\n",
    "  * Imagine a linked list where each node contains:\n",
    "    * Data\n",
    "    * Hash Pointer to the previous node's data\n",
    "  * Changing the data in any node will:\n",
    "    * Change the hash of that node\n",
    "    * Change the hash pointer in the next node\n",
    "    * Continue affecting all subsequent nodes\n"
   ]
  },
  {
   "cell_type": "code",
   "execution_count": 4,
   "metadata": {},
   "outputs": [
    {
     "name": "stdout",
     "output_type": "stream",
     "text": [
      "Original List:\n",
      "Data: Beta, Hash: 703390318bd55aef50b7823d2b90a846debff99e6e3d401a24a921b733912a6d, Prev Hash: \n",
      "Data: Alpha, Hash: 9517f7b5d2664f38da15735d8f2a44407c8de29d1e1d488d10b9275d0fd3604b, Prev Hash: 703390318bd55aef50b7823d2b90a846debff99e6e3d401a24a921b733912a6d\n",
      "Data: Delta, Hash: b09121c00f7dacaf6e4e234fe340f71fa28d894393f4e5f78fab5a585ea5147f, Prev Hash: 9517f7b5d2664f38da15735d8f2a44407c8de29d1e1d488d10b9275d0fd3604b\n",
      "Data: Gamma, Hash: d6e8a5f5e135051299749acc19d6ef182fe246f6440e6f7daad29e0ee8a3ce73, Prev Hash: b09121c00f7dacaf6e4e234fe340f71fa28d894393f4e5f78fab5a585ea5147f\n",
      "Data: Zeta, Hash: 009b9901cdc0dd709c4e345fc750cb31b95c9e4fb79d12d89a58fb1de3926ffd, Prev Hash: d6e8a5f5e135051299749acc19d6ef182fe246f6440e6f7daad29e0ee8a3ce73\n",
      "Data: Omega, Hash: 51ee1c31e1301e451649b629c4cc06f4f29fe48909c73bf009d412a873ccfbcc, Prev Hash: 009b9901cdc0dd709c4e345fc750cb31b95c9e4fb79d12d89a58fb1de3926ffd\n"
     ]
    },
    {
     "data": {
      "text/html": [
       "<div style=\"font-family: monospace;\"><div style=\"display: inline-block; border: 1px solid black; padding: 10px; margin: 5px;\"><p>Data: Beta</p><p>Hash: 70339031...</p><p>Prev Hash: ...</p></div><div style=\"display: inline-block; vertical-align: top; padding: 10px;\">&#8594;</div><div style=\"display: inline-block; border: 1px solid black; padding: 10px; margin: 5px;\"><p>Data: Alpha</p><p>Hash: 9517f7b5...</p><p>Prev Hash: 70339031...</p></div><div style=\"display: inline-block; vertical-align: top; padding: 10px;\">&#8594;</div><div style=\"display: inline-block; border: 1px solid black; padding: 10px; margin: 5px;\"><p>Data: Delta</p><p>Hash: b09121c0...</p><p>Prev Hash: 9517f7b5...</p></div><div style=\"display: inline-block; vertical-align: top; padding: 10px;\">&#8594;</div><div style=\"display: inline-block; border: 1px solid black; padding: 10px; margin: 5px;\"><p>Data: Gamma</p><p>Hash: d6e8a5f5...</p><p>Prev Hash: b09121c0...</p></div><div style=\"display: inline-block; vertical-align: top; padding: 10px;\">&#8594;</div><div style=\"display: inline-block; border: 1px solid black; padding: 10px; margin: 5px;\"><p>Data: Zeta</p><p>Hash: 009b9901...</p><p>Prev Hash: d6e8a5f5...</p></div><div style=\"display: inline-block; vertical-align: top; padding: 10px;\">&#8594;</div><div style=\"display: inline-block; border: 1px solid black; padding: 10px; margin: 5px;\"><p>Data: Omega</p><p>Hash: 51ee1c31...</p><p>Prev Hash: 009b9901...</p></div></div>"
      ],
      "text/plain": [
       "<IPython.core.display.HTML object>"
      ]
     },
     "metadata": {},
     "output_type": "display_data"
    }
   ],
   "source": [
    "from linked_list import HashLinkedList\n",
    "\n",
    "hll = HashLinkedList()\n",
    "hll.append(\"Beta\")\n",
    "hll.append(\"Alpha\")\n",
    "hll.append(\"Delta\")\n",
    "hll.append(\"Gamma\")\n",
    "hll.append(\"Zeta\")\n",
    "hll.append(\"Omega\")\n",
    "\n",
    "print(\"Original List:\")\n",
    "hll.print_list()\n",
    "hll.visualize()\n"
   ]
  },
  {
   "cell_type": "code",
   "execution_count": 2,
   "metadata": {},
   "outputs": [
    {
     "name": "stdout",
     "output_type": "stream",
     "text": [
      "\n",
      "List after manipulating 'Delta':\n",
      "Data: Beta, Hash: 703390318bd55aef50b7823d2b90a846debff99e6e3d401a24a921b733912a6d, Prev Hash: \n",
      "Data: Alpha, Hash: 9517f7b5d2664f38da15735d8f2a44407c8de29d1e1d488d10b9275d0fd3604b, Prev Hash: 703390318bd55aef50b7823d2b90a846debff99e6e3d401a24a921b733912a6d\n",
      "Data: DeltaModified, Hash: 21185a34b6ad429fbc23a71cdf7cecf19b81dc3938159b759b01d9a5dcff6b64, Prev Hash: 9517f7b5d2664f38da15735d8f2a44407c8de29d1e1d488d10b9275d0fd3604b\n",
      "Data: Gamma, Hash: d6e8a5f5e135051299749acc19d6ef182fe246f6440e6f7daad29e0ee8a3ce73, Prev Hash: b09121c00f7dacaf6e4e234fe340f71fa28d894393f4e5f78fab5a585ea5147f\n",
      "Data: Zeta, Hash: 009b9901cdc0dd709c4e345fc750cb31b95c9e4fb79d12d89a58fb1de3926ffd, Prev Hash: d6e8a5f5e135051299749acc19d6ef182fe246f6440e6f7daad29e0ee8a3ce73\n",
      "Data: Omega, Hash: 51ee1c31e1301e451649b629c4cc06f4f29fe48909c73bf009d412a873ccfbcc, Prev Hash: 009b9901cdc0dd709c4e345fc750cb31b95c9e4fb79d12d89a58fb1de3926ffd\n"
     ]
    },
    {
     "data": {
      "text/html": [
       "<div style=\"font-family: monospace;\"><div style=\"display: inline-block; border: 1px solid black; padding: 10px; margin: 5px;\"><p>Data: Beta</p><p>Hash: 70339031...</p><p>Prev Hash: ...</p></div><div style=\"display: inline-block; vertical-align: top; padding: 10px;\">&#8594;</div><div style=\"display: inline-block; border: 1px solid black; padding: 10px; margin: 5px;\"><p>Data: Alpha</p><p>Hash: 9517f7b5...</p><p>Prev Hash: 70339031...</p></div><div style=\"display: inline-block; vertical-align: top; padding: 10px;\">&#8594;</div><div style=\"display: inline-block; border: 1px solid black; padding: 10px; margin: 5px;\"><p>Data: DeltaModified</p><p>Hash: 21185a34...</p><p>Prev Hash: 9517f7b5...</p></div><div style=\"display: inline-block; vertical-align: top; padding: 10px;\">&#8594;</div><div style=\"display: inline-block; border: 1px solid black; padding: 10px; margin: 5px;\"><p>Data: Gamma</p><p>Hash: d6e8a5f5...</p><p>Prev Hash: b09121c0...</p></div><div style=\"display: inline-block; vertical-align: top; padding: 10px;\">&#8594;</div><div style=\"display: inline-block; border: 1px solid black; padding: 10px; margin: 5px;\"><p>Data: Zeta</p><p>Hash: 009b9901...</p><p>Prev Hash: d6e8a5f5...</p></div><div style=\"display: inline-block; vertical-align: top; padding: 10px;\">&#8594;</div><div style=\"display: inline-block; border: 1px solid black; padding: 10px; margin: 5px;\"><p>Data: Omega</p><p>Hash: 51ee1c31...</p><p>Prev Hash: 009b9901...</p></div></div>"
      ],
      "text/plain": [
       "<IPython.core.display.HTML object>"
      ]
     },
     "metadata": {},
     "output_type": "display_data"
    }
   ],
   "source": [
    "hll.manipulate_data(\"Delta\", \"DeltaModified\")\n",
    "print(\"\\nList after manipulating 'Delta':\")\n",
    "hll.print_list()\n",
    "hll.visualize()"
   ]
  },
  {
   "cell_type": "markdown",
   "metadata": {},
   "source": [
    "This is also called *tamper-evident log* to ensure security against manipulation."
   ]
  },
  {
   "cell_type": "markdown",
   "metadata": {},
   "source": [
    "### 3.1.3 Merkle Trees\n"
   ]
  },
  {
   "cell_type": "code",
   "execution_count": null,
   "metadata": {},
   "outputs": [
    {
     "ename": "",
     "evalue": "",
     "output_type": "error",
     "traceback": [
      "\u001b[1;31mThe Kernel crashed while executing code in the current cell or a previous cell. \n",
      "\u001b[1;31mPlease review the code in the cell(s) to identify a possible cause of the failure. \n",
      "\u001b[1;31mClick <a href='https://aka.ms/vscodeJupyterKernelCrash'>here</a> for more info. \n",
      "\u001b[1;31mView Jupyter <a href='command:jupyter.viewOutput'>log</a> for further details."
     ]
    }
   ],
   "source": [
    "from merkle_tree import MerkleTree\n",
    "\n",
    "# Example usage\n",
    "data_list = [\"data1\", \"data2\", \"data3\", \"data4\"]\n",
    "merkle_tree = MerkleTree()\n",
    "merkle_tree.build_tree(data_list)\n",
    "merkle_tree.visualize()\n"
   ]
  },
  {
   "cell_type": "markdown",
   "metadata": {},
   "source": [
    "### 3.1.4 Proof of Membership and Nonmembership"
   ]
  },
  {
   "cell_type": "markdown",
   "metadata": {},
   "source": [
    "### 3.1.5 Digital Signatures\n",
    "\n",
    "#### Elliptic Curve Digital Signature Algorithm (ECDSA)\n",
    "\n",
    "#### Secp256k1"
   ]
  },
  {
   "cell_type": "markdown",
   "metadata": {},
   "source": [
    "### 3.1.6 Identities"
   ]
  },
  {
   "cell_type": "markdown",
   "metadata": {},
   "source": [
    "### 3.1.7 Consensus Algorithm\n",
    "\n",
    "#### Which transactions are the valid ones? (Mining)"
   ]
  }
 ],
 "metadata": {
  "kernelspec": {
   "display_name": "venv",
   "language": "python",
   "name": "python3"
  },
  "language_info": {
   "codemirror_mode": {
    "name": "ipython",
    "version": 3
   },
   "file_extension": ".py",
   "mimetype": "text/x-python",
   "name": "python",
   "nbconvert_exporter": "python",
   "pygments_lexer": "ipython3",
   "version": "3.9.13"
  }
 },
 "nbformat": 4,
 "nbformat_minor": 2
}
