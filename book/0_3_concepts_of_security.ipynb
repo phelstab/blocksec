{
 "cells": [
  {
   "cell_type": "markdown",
   "metadata": {},
   "source": [
    "# 3. Security Aspects and Technical Fundamentals of Blockchain Technology <!-- (*20 Minuten*) -->\n",
    "\n",
    "## The Idea\n",
    "The core idea is to provide a system that is through\n",
    "\n",
    "<!-- Die Kernidee hinter der Blockchain liegt darin ein System zu schaffen das es ermöglicht komplett Dezentral und somit ohne jegliche Intermediäre und damit auch ohne Treuhänder, Transaktionen zwischen Agenten zu ermöglichen.  -->\n",
    "The core idea behind blockchain technology is to create a decentralized system that allows transactions between parties (agents) without the need for intermediaries or trusted third parties.\n",
    "<!-- Dabei übernehmen Mathematische Modelle die auf der Berechenbarkeit und Komplexität Kryptographische verschlüsselungen ermgöglichen, die Aufgaben eines Intermediärs und verteilen diese Aufgaben auf alle Agenten die Teil des Systems sind auch wenn diese eine Aufgabe erhalten die nicht ihrer eigenen Transaktion dient. -->\n",
    "Mathematical models that enable cryptographic encryption based on computability and complexity take on the tasks of an intermediary. The system itself distribute these tasks to all agents in the system, even if they receive a task that is not related to their own transactions.\n",
    "\n",
    "It is replaced as follows:\n",
    "| The Object | Centralized FIAT Object | Blockchain |\n",
    "|-----------|-----------|-----------|\n",
    "| The Storage of Value | Bank Account / Physical Wallet | Public + Private Key linked to realised transactions held by all participants in the system |\n",
    "| Transaction | (Digital) Transaction through trustee (middleman) or physical handover between parties | Publishing that an object, has a new owner by its current owner to the whole system through a cryptographic signature |\n"
   ]
  },
  {
   "cell_type": "markdown",
   "metadata": {},
   "source": [
    "### 3.1.1 Cryptographic Hash Functions\n",
    "Because the concept of blockchains is built on different aspects of computation theory, cryptography, and distributed computing, we will start with the core aspects that form a blockchain and begin with the *cryptographic hash functions*.\n",
    "\n",
    "This is a more uncommon approach in science, but we want to first define what properties our hash functions must hold so they can be used in common blockchains, and we will understand the \"Why?\" later when everything comes together.\n",
    "\n",
    "#### Computation\n",
    "**Computational Property 1: *Input Flexibility***\n",
    "  * The input can be any string of any size.\n",
    "\n",
    "**Computational Property 2: *Fixed-Sized Output***\n",
    "  * The function produces a fixed-sized output.\n",
    "  * For this discussion, a 256-bit output size is assumed, but the property holds for any sufficiently large output size.\n",
    "\n",
    "**Computational Property 3: *Efficient Computability***\n",
    "  * The hash function is efficiently computable, meaning that for a given input string, the output can be determined in a reasonable amount of time.\n",
    "  * Technically, computing the hash of an n-bit string should have a running time of O(n).\n",
    "\n",
    "\n",
    "#### Cryptography\n",
    "**Cryptographic Property 1: *Collision Resistance***\n",
    "\n",
    "**Definition:** A hash function \\( H \\) is said to be collision resistant if it is infeasible to find two values, \\( x \\) and \\( y \\), such that \\( x \\neq y \\), yet \\( H(x) = H(y) \\).\n",
    "\n",
    "*Why we need this?* \n",
    "  * We need collision resistance to ensure that it is infeasible to find two different inputs that produce the same hash output.\n",
    "  * This is crucial for maintaining data integrity and preventing forgery.\n",
    "\n",
    "*Example:* \n",
    "  * When a transaction is created, it is hashed to produce a transaction ID.\n",
    "  * If an attacker could find two different transactions that produce the same hash (collision), they could potentially replace a legitimate transaction with a fraudulent one without being detected.\n",
    "  * This would undermine the integrity of the blockchain.\n",
    "\n",
    "**Cryptographic Property 2: *Hiding***\n",
    "\n",
    "**Definition:** A hash function \\( H \\) is said to be hiding if, when a secret value \\( r \\) is chosen from a probability distribution that has high min-entropy, then, given \\( H(r \\parallel x) \\), it is infeasible to find \\( x \\).\n",
    "\n",
    "*Why we need this?* \n",
    "  * We need the hiding property to ensure that given a hash output, it is infeasible to determine the original input.\n",
    "  * This is essential for preserving the confidentiality of the input data.\n",
    "\n",
    "*Example:* \n",
    "  * The hiding property ensures that the nonce and other block header data cannot be easily deduced from the hash output.\n",
    "  * Maintains the difficulty and security of the mining process.\n",
    "\n",
    "**Cryptographic Property 3: *Puzzle Friendliness***\n",
    "\n",
    "**Definition:** A hash function \\( H \\) is said to be puzzle friendly if for every possible \\( n \\)-bit output value \\( y \\), if \\( k \\) is chosen from a distribution with high min-entropy, then it is infeasible to find \\( x \\) such that \\( H(k \\| x) = y \\) in time significantly less than \\( 2^n \\).\n",
    "\n",
    "*Why we need this?* \n",
    "  * Puzzle friendliness ensures that solving the hash function requires a brute-force search.\n",
    "  * Prevents shortcuts and maintains the security of cryptographic protocols.\n",
    "\n",
    "*Example:*\n",
    "  * In Bitcoin mining:\n",
    "    * Miners must find a nonce such that the hash of the block header concatenated with the nonce produces a hash with a certain number of leading zeros.\n",
    "    * Puzzle friendliness ensures there are no shortcuts to finding this nonce.\n",
    "    * Maintains the difficulty and security of the mining process.\n",
    "\n",
    "\n",
    "### 3.1.2 Hash Pointers\n",
    "The next thing we need are so called Hash Pointers. Imagine a Linked List"
   ]
  },
  {
   "cell_type": "code",
   "execution_count": null,
   "metadata": {},
   "outputs": [],
   "source": [
    "from linked_list import LinkedList\n",
    "\n",
    "ll = LinkedList()\n",
    "ll.append(\"Beta\")\n",
    "ll.append(\"Alpha\")\n",
    "ll.append(\"Delta\")\n",
    "ll.append(\"Gamma\")\n",
    "\n",
    "ll.print_list()"
   ]
  },
  {
   "cell_type": "markdown",
   "metadata": {},
   "source": [
    "* **Problem: Ensuring Static Linkage of Values**\n",
    "  * We need to ensure that values are statically linked together.\n",
    "  * We want to make sure that we cannot change any value in the middle of the linked list without changing every value before the changed one.\n",
    "\n",
    "* **Solution: Hash Pointers**\n",
    "  * Hash Pointers connect a hash of the previous node's data to the current node.\n",
    "  * Any change in the data of a node will affect the hash, and thus the hash pointer in the next node.\n",
    "  * This creates a chain reaction, ensuring data integrity.\n",
    "\n",
    "* **Visualization:**\n",
    "  * Imagine a linked list where each node contains:\n",
    "    * Data\n",
    "    * Hash Pointer to the previous node's data\n",
    "  * Changing the data in any node will:\n",
    "    * Change the hash of that node\n",
    "    * Change the hash pointer in the next node\n",
    "    * Continue affecting all subsequent nodes\n"
   ]
  },
  {
   "cell_type": "code",
   "execution_count": null,
   "metadata": {},
   "outputs": [],
   "source": [
    "from linked_list import HashLinkedList\n",
    "\n",
    "hll = HashLinkedList()\n",
    "hll.append(\"Beta\")\n",
    "hll.append(\"Alpha\")\n",
    "hll.append(\"Delta\")\n",
    "hll.append(\"Gamma\")\n",
    "hll.append(\"Zeta\")\n",
    "hll.append(\"Omega\")\n",
    "\n",
    "print(\"Original List:\")\n",
    "hll.print_list()\n",
    "hll.visualize()\n"
   ]
  },
  {
   "cell_type": "code",
   "execution_count": null,
   "metadata": {},
   "outputs": [],
   "source": [
    "hll.manipulate_data(\"Delta\", \"DeltaModified\")\n",
    "print(\"\\nList after manipulating 'Delta':\")\n",
    "hll.print_list()\n",
    "hll.visualize()"
   ]
  },
  {
   "cell_type": "markdown",
   "metadata": {},
   "source": [
    "This structure called *tamper-evident log* is secure against manipulation and hold the following properties:\n",
    "\n",
    "* Tamper Evidence: Any change in the data can be detected.\n",
    "*Integrity: The integrity of the data is maintained as long as the hash pointers are intact.\n",
    "\n",
    "However, this structure alone is not sufficient for a full-fledged blockchain with transactions due to the following reasons:\n",
    "\n",
    "* Efficiency in Verification: Verifying the integrity of a single block requires traversing the entire chain from the head to the block in question. This can be inefficient for large blockchains.\n",
    "* Proof of Membership: Proving that a particular transaction exists in the blockchain is not straightforward and requires traversing the entire chain.\n",
    "* Proof of Nonmembership: Proving that a particular transaction does not exist is even more complex and inefficient.\n",
    "\n",
    "\n",
    "Merkle trees address these inefficiencies by providing a more structured and efficient way to verify data integrity and membership.\n"
   ]
  },
  {
   "cell_type": "code",
   "execution_count": null,
   "metadata": {},
   "outputs": [],
   "source": [
    "# https://en.wikipedia.org/wiki/Merkle%E2%80%93Damg%C3%A5rd_construction"
   ]
  },
  {
   "cell_type": "markdown",
   "metadata": {},
   "source": [
    "### 3.1.3 Merkle Trees\n",
    "\n",
    "* Efficient Verification: In a Merkle tree, each leaf node represents a data block (e.g., a transaction), and each non-leaf node represents the hash of its child nodes. The root of the tree is a hash that represents the entire dataset. Verifying the integrity of a single block only requires a logarithmic number of hash computations (log(n)), making it much more efficient than traversing the entire chain."
   ]
  },
  {
   "cell_type": "code",
   "execution_count": 5,
   "metadata": {},
   "outputs": [
    {
     "name": "stdout",
     "output_type": "stream",
     "text": [
      "Merkle Root: 0cf77e26eb4a27047852cf39e3868c7a69ff1109acb9e799ba422d3ac350fb97\n",
      "\n",
      "Tree Structure:\n",
      ".: 0cf77e26eb4a27047852cf39e3868c7a69ff1109acb9e799ba422d3ac350fb97\n",
      "    L: 830b7f324af3ff2b2a47cf7cf5ac825fe8d8034294ea8e8f853a4d3fada893fc\n",
      "        L: bde4693e55a336ff81ab238ce20cae1dd9c8ba03b9b8f43963f5569bf3cf5229\n",
      "        R: 4beace8bdcf9b5b74630eaee2e7f501180e46025ca89b05e7e041fbe953d817a\n",
      "    R: 882ed7f97314e753d0084ea24c386afd3cbd0fb34b3744bfb81d9d3a925cc6e6\n",
      "        L: 293755ab6384e02d9202d483f2f0250100d786e75fdab1b6f3925b2800ece3cb\n",
      "        R: 2435dc0372e12b3f7684fb7093fbe6f6dee79dbff96cc28b1687839ef526e02f\n"
     ]
    }
   ],
   "source": [
    "from merkle_tree import merkleTree, visualizeTree\n",
    "\n",
    "transactions = ['transaction1', 'transaction2', 'transaction3', 'transaction4']\n",
    "tree = merkleTree()\n",
    "tree.makeTreeFromArray(transactions)\n",
    "tree.calculateMerkleRoot()\n",
    "\n",
    "print(\"Merkle Root:\", tree.getMerkleRoot())\n",
    "print(\"\\nTree Structure:\")\n",
    "visualizeTree(tree.root)\n"
   ]
  },
  {
   "cell_type": "markdown",
   "metadata": {},
   "source": [
    "### Transaction Validation\n",
    "\n",
    "**L:** `830b7f324af3ff2b2a47cf7cf5ac825fe8d8034294ea8e8f853a4d3fada893fc`\n",
    "\n",
    "**Should be:**\n",
    "\n",
    "- **Transaction 1:** `bde4693e55a336ff81ab238ce20cae1dd9c8ba03b9b8f43963f5569bf3cf5229`\n",
    "- **+**\n",
    "- **Transaction 2:** `4beace8bdcf9b5b74630eaee2e7f501180e46025ca89b05e7e041fbe953d817a`\n",
    "\n",
    "**Result:**\n",
    "\n",
    "- **Expected:** `830b7f324af3ff2b2a47cf7cf5ac825fe8d8034294ea8e8f853a4d3fada893fc`\n"
   ]
  },
  {
   "cell_type": "code",
   "execution_count": 6,
   "metadata": {},
   "outputs": [
    {
     "name": "stdout",
     "output_type": "stream",
     "text": [
      "Combined hash: 830b7f324af3ff2b2a47cf7cf5ac825fe8d8034294ea8e8f853a4d3fada893fc\n",
      "Expected: 830b7f324af3ff2b2a47cf7cf5ac825fe8d8034294ea8e8f853a4d3fada893fc\n"
     ]
    }
   ],
   "source": [
    "from hash_functions import sha256_hash\n",
    "\n",
    "def verify_merkle_tree():\n",
    "        txn1_hash = 'bde4693e55a336ff81ab238ce20cae1dd9c8ba03b9b8f43963f5569bf3cf5229'\n",
    "        txn2_hash = '4beace8bdcf9b5b74630eaee2e7f501180e46025ca89b05e7e041fbe953d817a'\n",
    "        expected = '830b7f324af3ff2b2a47cf7cf5ac825fe8d8034294ea8e8f853a4d3fada893fc'\n",
    "        \n",
    "        combined_hash = sha256_hash(txn1_hash + txn2_hash)\n",
    "\n",
    "        print(f\"Combined hash: {combined_hash}\")\n",
    "        print(f\"Expected: {expected}\")\n",
    "        assert combined_hash == expected, f\"Hash mismatch: {combined_hash} != {expected}\"\n",
    "\n",
    "\n",
    "verify_merkle_tree()\n"
   ]
  },
  {
   "cell_type": "markdown",
   "metadata": {},
   "source": [
    "We can also prove that the negation is valid."
   ]
  },
  {
   "cell_type": "code",
   "execution_count": 7,
   "metadata": {},
   "outputs": [
    {
     "name": "stdout",
     "output_type": "stream",
     "text": [
      "Combined hash: ed16d3014e104c1dea31d8cf9d137daf0231f620b7c39bc291957f15e3ebda4d\n",
      "Expected: 830b7f324af3ff2b2a47cf7cf5ac825fe8d8034294ea8e8f853a4d3fada893fc\n"
     ]
    },
    {
     "ename": "AssertionError",
     "evalue": "Hash mismatch: ed16d3014e104c1dea31d8cf9d137daf0231f620b7c39bc291957f15e3ebda4d != 830b7f324af3ff2b2a47cf7cf5ac825fe8d8034294ea8e8f853a4d3fada893fc",
     "output_type": "error",
     "traceback": [
      "\u001b[1;31m---------------------------------------------------------------------------\u001b[0m",
      "\u001b[1;31mAssertionError\u001b[0m                            Traceback (most recent call last)",
      "Cell \u001b[1;32mIn[7], line 14\u001b[0m\n\u001b[0;32m     10\u001b[0m         \u001b[38;5;28mprint\u001b[39m(\u001b[38;5;124mf\u001b[39m\u001b[38;5;124m\"\u001b[39m\u001b[38;5;124mExpected: \u001b[39m\u001b[38;5;132;01m{\u001b[39;00mexpected\u001b[38;5;132;01m}\u001b[39;00m\u001b[38;5;124m\"\u001b[39m)\n\u001b[0;32m     11\u001b[0m         \u001b[38;5;28;01massert\u001b[39;00m combined_hash \u001b[38;5;241m==\u001b[39m expected, \u001b[38;5;124mf\u001b[39m\u001b[38;5;124m\"\u001b[39m\u001b[38;5;124mHash mismatch: \u001b[39m\u001b[38;5;132;01m{\u001b[39;00mcombined_hash\u001b[38;5;132;01m}\u001b[39;00m\u001b[38;5;124m != \u001b[39m\u001b[38;5;132;01m{\u001b[39;00mexpected\u001b[38;5;132;01m}\u001b[39;00m\u001b[38;5;124m\"\u001b[39m\n\u001b[1;32m---> 14\u001b[0m \u001b[43mverify_merkle_tree\u001b[49m\u001b[43m(\u001b[49m\u001b[43m)\u001b[49m\n",
      "Cell \u001b[1;32mIn[7], line 11\u001b[0m, in \u001b[0;36mverify_merkle_tree\u001b[1;34m()\u001b[0m\n\u001b[0;32m      9\u001b[0m \u001b[38;5;28mprint\u001b[39m(\u001b[38;5;124mf\u001b[39m\u001b[38;5;124m\"\u001b[39m\u001b[38;5;124mCombined hash: \u001b[39m\u001b[38;5;132;01m{\u001b[39;00mcombined_hash\u001b[38;5;132;01m}\u001b[39;00m\u001b[38;5;124m\"\u001b[39m)\n\u001b[0;32m     10\u001b[0m \u001b[38;5;28mprint\u001b[39m(\u001b[38;5;124mf\u001b[39m\u001b[38;5;124m\"\u001b[39m\u001b[38;5;124mExpected: \u001b[39m\u001b[38;5;132;01m{\u001b[39;00mexpected\u001b[38;5;132;01m}\u001b[39;00m\u001b[38;5;124m\"\u001b[39m)\n\u001b[1;32m---> 11\u001b[0m \u001b[38;5;28;01massert\u001b[39;00m combined_hash \u001b[38;5;241m==\u001b[39m expected, \u001b[38;5;124mf\u001b[39m\u001b[38;5;124m\"\u001b[39m\u001b[38;5;124mHash mismatch: \u001b[39m\u001b[38;5;132;01m{\u001b[39;00mcombined_hash\u001b[38;5;132;01m}\u001b[39;00m\u001b[38;5;124m != \u001b[39m\u001b[38;5;132;01m{\u001b[39;00mexpected\u001b[38;5;132;01m}\u001b[39;00m\u001b[38;5;124m\"\u001b[39m\n",
      "\u001b[1;31mAssertionError\u001b[0m: Hash mismatch: ed16d3014e104c1dea31d8cf9d137daf0231f620b7c39bc291957f15e3ebda4d != 830b7f324af3ff2b2a47cf7cf5ac825fe8d8034294ea8e8f853a4d3fada893fc"
     ]
    }
   ],
   "source": [
    "def verify_merkle_tree():\n",
    "        txn1_hash = 'bde4693e55a336ff81ab238ce20cae1dd9c8ba03b9b8f43963f5569bf3cf5228'\n",
    "        txn2_hash = '4beace8bdcf9b5b74630eaee2e7f501180e46025ca89b05e7e041fbe953d817a'\n",
    "        expected = '830b7f324af3ff2b2a47cf7cf5ac825fe8d8034294ea8e8f853a4d3fada893fc'\n",
    "        \n",
    "        \n",
    "        combined_hash = sha256_hash(txn1_hash + txn2_hash)\n",
    "\n",
    "        print(f\"Combined hash: {combined_hash}\")\n",
    "        print(f\"Expected: {expected}\")\n",
    "        assert combined_hash == expected, f\"Hash mismatch: {combined_hash} != {expected}\"\n",
    "\n",
    "\n",
    "verify_merkle_tree()\n"
   ]
  },
  {
   "cell_type": "markdown",
   "metadata": {},
   "source": [
    "<!-- Erweiterungs-Angriff (Extension-Attack) -->\n",
    "\n",
    "<img src=\"../_static/images/merkle_tree.png\">\n",
    "\n",
    "\n",
    "Important Practical properties Merkle Tree vs. Hashed linked lists:\n",
    "\n",
    "* Scalability: Merkle trees scale well with the size of the dataset. As the number of transactions grows, the depth of the tree increases logarithmically, maintaining efficient verification times.\n",
    "\n",
    "* Concise Proofs: Both membership and nonmembership proofs are concise and efficient, making them suitable for large datasets.\n",
    "\n",
    "* Parallelism: Merkle trees allow for parallel computation of hashes, which can speed up the process of building and verifying the tree."
   ]
  },
  {
   "cell_type": "markdown",
   "metadata": {},
   "source": [
    "#### Proof of Membership and Nonmembership\n",
    "\n",
    "* Proof of Membership: To prove that a particular transaction is part of the blockchain, you only need to provide the transaction, its hash, and the hashes of its sibling nodes up to the root. This proof is concise and can be verified in logarithmic time.\n",
    "\n",
    "* Proof of Nonmembership: In a sorted Merkle tree, proving nonmembership involves showing the path to the items just before and after the position where the transaction would be. This proof is also efficient and can be verified in logarithmic time."
   ]
  },
  {
   "cell_type": "markdown",
   "metadata": {},
   "source": [
    "### 3.1.5 UTXO\n",
    "\n"
   ]
  },
  {
   "cell_type": "code",
   "execution_count": null,
   "metadata": {},
   "outputs": [],
   "source": [
    "# dump a utxo block"
   ]
  },
  {
   "cell_type": "markdown",
   "metadata": {},
   "source": [
    "### 3.1.5 Digital Signatures\n",
    "\n",
    "#### Elliptic Curve Digital Signature Algorithm (ECDSA)\n",
    "\n",
    "#### Secp256k1"
   ]
  },
  {
   "cell_type": "markdown",
   "metadata": {},
   "source": [
    "### 3.1.6 Identities"
   ]
  },
  {
   "cell_type": "markdown",
   "metadata": {},
   "source": [
    "### 3.1.7 Consensus Algorithm\n",
    "\n",
    "#### Which transactions are the valid ones? (Mining)"
   ]
  }
 ],
 "metadata": {
  "kernelspec": {
   "display_name": "venv",
   "language": "python",
   "name": "python3"
  },
  "language_info": {
   "codemirror_mode": {
    "name": "ipython",
    "version": 3
   },
   "file_extension": ".py",
   "mimetype": "text/x-python",
   "name": "python",
   "nbconvert_exporter": "python",
   "pygments_lexer": "ipython3",
   "version": "3.9.13"
  }
 },
 "nbformat": 4,
 "nbformat_minor": 2
}
