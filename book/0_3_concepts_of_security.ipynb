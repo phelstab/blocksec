{
 "cells": [
  {
   "cell_type": "markdown",
   "metadata": {
    "slideshow": {
     "slide_type": "slide"
    }
   },
   "source": [
    "# Security Aspects and Technical Fundamentals of Blockchain Technology <!-- (*20 Minuten*) -->"
   ]
  },
  {
   "cell_type": "markdown",
   "metadata": {
    "slideshow": {
     "slide_type": "slide"
    }
   },
   "source": [
    "**Core idea of blockchain technology:**\n",
    "* Create a decentralized transaction system\n",
    "* Enable transactions between parties (agents)\n",
    "* Eliminate the need for intermediaries\n",
    "* Remove reliance on trusted third parties {cite}`narayanan2016bitcoin`"
   ]
  },
  {
   "cell_type": "markdown",
   "metadata": {
    "slideshow": {
     "slide_type": "slide"
    }
   },
   "source": [
    "**How to achieve blockchain technology:**\n",
    "* Mathematical models take over all the functional foundations of blockchain technology.\n",
    "* Mathematical models that enable cryptographic encryption based on computability and complexity take on the tasks of an intermediary.\n",
    "* The system itself distributes these tasks to all agents in the system, even if they receive a task that is not related to their own transactions. {cite}`narayanan2016bitcoin`"
   ]
  },
  {
   "cell_type": "markdown",
   "metadata": {
    "slideshow": {
     "slide_type": "slide"
    }
   },
   "source": [
    "It is replaced as follows:\n",
    "| The Object | Centralized FIAT Object | Blockchain |\n",
    "|-----------|-----------|-----------|\n",
    "| The Storage of Value | Bank Account / Physical Wallet | Public + Private Key linked to realized and unspent transactions held by all participants in the system |\n",
    "| Transaction | (Digital) Transaction through trustee (middleman) or physical handover between parties | Publishing that an object has a new owner by its current owner to the whole system through a cryptographic signature |\n",
    "|Identity Verification |\tGovernmental ID cards, passwords, various authentication methods\t| Decentralized identifiers (DIDs), cryptographic proofs, and blockchain-based identity verification |\n",
    "\n",
    "<!-- Die Kernidee hinter der Blockchain liegt darin ein System zu schaffen das es ermöglicht komplett Dezentral und somit ohne jegliche Intermediäre und damit auch ohne Treuhänder, Transaktionen zwischen Agenten zu ermöglichen.  -->\n",
    "<!-- Dabei übernehmen Mathematische Modelle die auf der Berechenbarkeit und Komplexität Kryptographische verschlüsselungen ermgöglichen, die Aufgaben eines Intermediärs und verteilen diese Aufgaben auf alle Agenten die Teil des Systems sind auch wenn diese eine Aufgabe erhalten die nicht ihrer eigenen Transaktion dient. -->"
   ]
  },
  {
   "cell_type": "markdown",
   "metadata": {
    "slideshow": {
     "slide_type": "slide"
    }
   },
   "source": [
    "### Cryptographic Hash Functions\n",
    "Because the concept of blockchains is built on different aspects of computation theory, cryptography, and distributed computing, we will start with the core aspects that form a blockchain and begin with the *cryptographic hash functions*.\n",
    "\n",
    "This is a more uncommon approach in science, but we want to first define what properties our hash functions must hold so they can be used in common blockchains, and we will understand the \"Why?\" later when everything comes together. {cite}`narayanan2016bitcoin`"
   ]
  },
  {
   "cell_type": "markdown",
   "metadata": {
    "slideshow": {
     "slide_type": "slide"
    }
   },
   "source": [
    "#### Computation"
   ]
  },
  {
   "cell_type": "markdown",
   "metadata": {
    "slideshow": {
     "slide_type": "subslide"
    }
   },
   "source": [
    "**Computational Property 1: *Input Flexibility*** \n",
    "  * The input can be any string of any size. {cite}`narayanan2016bitcoin`\n"
   ]
  },
  {
   "cell_type": "markdown",
   "metadata": {
    "slideshow": {
     "slide_type": "subslide"
    }
   },
   "source": [
    "**Computational Property 2: *Fixed-Sized Output***\n",
    "  * The function produces a fixed-sized output.\n",
    "  * For this discussion, a 256-bit output size is assumed, but the property holds for any sufficiently large output size. {cite}`narayanan2016bitcoin`"
   ]
  },
  {
   "cell_type": "markdown",
   "metadata": {
    "slideshow": {
     "slide_type": "subslide"
    }
   },
   "source": [
    "**Computational Property 3: *Efficient Computability***\n",
    "  * The hash function is efficiently computable, meaning that for a given input string, the output can be determined in a reasonable amount of time.\n",
    "  * Technically, computing the hash of an n-bit string should have a running time of O(n). {cite}`narayanan2016bitcoin`\n"
   ]
  },
  {
   "cell_type": "markdown",
   "metadata": {
    "slideshow": {
     "slide_type": "slide"
    }
   },
   "source": [
    "#### Cryptography"
   ]
  },
  {
   "cell_type": "markdown",
   "metadata": {
    "slideshow": {
     "slide_type": "slide"
    }
   },
   "source": [
    "**Cryptographic Property 1: *Collision Resistance***\n",
    "\n",
    "**Definition:** A hash function $ H $ is said to be collision resistant if it is infeasible to find two values, $ x $ and $ y $, such that $ x \\neq y $, yet $ H(x) = H(y) $. {cite}`narayanan2016bitcoin`\n"
   ]
  },
  {
   "cell_type": "markdown",
   "metadata": {
    "slideshow": {
     "slide_type": "subslide"
    }
   },
   "source": [
    "*Why we need this?* \n",
    "  * We need collision resistance to ensure that it is infeasible to find two different inputs that produce the same hash output.\n",
    "  * This is crucial for maintaining data integrity and preventing forgery. {cite}`narayanan2016bitcoin`"
   ]
  },
  {
   "cell_type": "markdown",
   "metadata": {
    "slideshow": {
     "slide_type": "subslide"
    }
   },
   "source": [
    "*Example:* \n",
    "  * When a transaction is created, it is hashed to produce a transaction ID.\n",
    "  * If an attacker could find two different transactions that produce the same hash (collision), they could potentially replace a legitimate transaction with a fraudulent one without being detected.\n",
    "  * This would undermine the integrity of the blockchain. {cite}`narayanan2016bitcoin`\n"
   ]
  },
  {
   "cell_type": "markdown",
   "metadata": {
    "slideshow": {
     "slide_type": "slide"
    }
   },
   "source": [
    "**Cryptographic Property 2: *Hiding***\n",
    "\n",
    "**Definition:** A hash function $ H $ is said to be hiding if, when a secret value $ r $ is chosen from a probability distribution that has high min-entropy, then, given $ H(r \\parallel x) $, it is infeasible to find $ x $. {cite}`narayanan2016bitcoin`"
   ]
  },
  {
   "cell_type": "markdown",
   "metadata": {
    "slideshow": {
     "slide_type": "subslide"
    }
   },
   "source": [
    "*Why we need this?* \n",
    "  * We need the hiding property to ensure that given a hash output, it is infeasible to determine the original input.\n",
    "  * This is essential for preserving the confidentiality of the input data. {cite}`narayanan2016bitcoin`"
   ]
  },
  {
   "cell_type": "markdown",
   "metadata": {
    "slideshow": {
     "slide_type": "subslide"
    }
   },
   "source": [
    "*Example:* \n",
    "  * The hiding property ensures that the nonce and other block header data cannot be easily deduced from the hash output.\n",
    "  * Maintains the difficulty and security of the mining process. {cite}`narayanan2016bitcoin`"
   ]
  },
  {
   "cell_type": "markdown",
   "metadata": {
    "slideshow": {
     "slide_type": "slide"
    }
   },
   "source": [
    "**Cryptographic Property 3: *Puzzle Friendliness***\n",
    "\n",
    "**Definition:** A hash function $ H $ is said to be puzzle friendly if for every possible $ n $-bit output value $ y $, if $ k $ is chosen from a distribution with high min-entropy, then it is infeasible to find $ x $ such that $ H(k \\| x) = y $ in time significantly less than $ 2^n $. {cite}`narayanan2016bitcoin`"
   ]
  },
  {
   "cell_type": "markdown",
   "metadata": {
    "slideshow": {
     "slide_type": "subslide"
    }
   },
   "source": [
    "*Why we need this?* \n",
    "  * Puzzle friendliness ensures that solving the hash function requires a brute-force search.\n",
    "  * Prevents shortcuts and maintains the security of cryptographic protocols. {cite}`narayanan2016bitcoin`"
   ]
  },
  {
   "cell_type": "markdown",
   "metadata": {
    "slideshow": {
     "slide_type": "subslide"
    }
   },
   "source": [
    "*Example:*\n",
    "  * In Bitcoin mining:\n",
    "    * Miners must find a nonce such that the hash of the block header concatenated with the nonce produces a hash with a certain number of leading zeros.\n",
    "    * Puzzle friendliness ensures there are no shortcuts to finding this nonce.\n",
    "    * Maintains the difficulty and security of the mining process. {cite}`narayanan2016bitcoin`"
   ]
  },
  {
   "cell_type": "markdown",
   "metadata": {
    "slideshow": {
     "slide_type": "slide"
    }
   },
   "source": [
    "### Hash Pointers\n",
    "The next thing we need are so called Hash Pointers. Imagine a Linked List"
   ]
  },
  {
   "cell_type": "code",
   "execution_count": 2,
   "metadata": {
    "slideshow": {
     "slide_type": "subslide"
    }
   },
   "outputs": [
    {
     "name": "stdout",
     "output_type": "stream",
     "text": [
      "Beta -> Alpha -> Delta -> Gamma -> None\n"
     ]
    }
   ],
   "source": [
    "from linked_list import LinkedList\n",
    "\n",
    "ll = LinkedList()\n",
    "ll.append(\"Beta\")\n",
    "ll.append(\"Alpha\")\n",
    "ll.append(\"Delta\")\n",
    "ll.append(\"Gamma\")\n",
    "\n",
    "ll.print_list()"
   ]
  },
  {
   "cell_type": "markdown",
   "metadata": {},
   "source": [
    "* **Problem: Ensuring Static Linkage of Values**\n",
    "  * We need to ensure that values are statically linked together.\n",
    "  * We want to make sure that we cannot change any value in the middle of the linked list without changing every value before the changed one."
   ]
  },
  {
   "cell_type": "markdown",
   "metadata": {},
   "source": [
    "* **Solution: Hash Pointers**\n",
    "  * Hash Pointers connect a hash of the previous node's data to the current node.\n",
    "  * Any change in the data of a node will affect the hash, and thus the hash pointer in the next node.\n",
    "  * This creates a chain reaction, ensuring data integrity."
   ]
  },
  {
   "cell_type": "markdown",
   "metadata": {},
   "source": [
    "* **Visualization:**\n",
    "  * Imagine a linked list where each node contains:\n",
    "    * Data\n",
    "    * Hash Pointer to the previous node's data\n",
    "  * Changing the data in any node will:\n",
    "    * Change the hash of that node\n",
    "    * Change the hash pointer in the next node\n",
    "    * Continue affecting all subsequent nodes"
   ]
  },
  {
   "cell_type": "code",
   "execution_count": null,
   "metadata": {},
   "outputs": [],
   "source": [
    "from linked_list import HashLinkedList\n",
    "\n",
    "hll = HashLinkedList()\n",
    "hll.append(\"Beta\")\n",
    "hll.append(\"Alpha\")\n",
    "hll.append(\"Delta\")\n",
    "hll.append(\"Gamma\")\n",
    "hll.append(\"Zeta\")\n",
    "hll.append(\"Omega\")\n",
    "\n",
    "print(\"Original List:\")\n",
    "hll.print_list()\n",
    "hll.visualize()"
   ]
  },
  {
   "cell_type": "code",
   "execution_count": null,
   "metadata": {},
   "outputs": [],
   "source": [
    "hll.manipulate_data(\"Delta\", \"DeltaModified\")\n",
    "print(\"\\nList after manipulating 'Delta':\")\n",
    "hll.print_list()\n",
    "hll.visualize()"
   ]
  },
  {
   "cell_type": "markdown",
   "metadata": {},
   "source": [
    "This structure called *tamper-evident log* is secure against manipulation and hold the following properties:\n",
    "\n",
    "* **Tamper Evidence:** Any change in the data can be detected.\n",
    "* **Integrity:** The integrity of the data is maintained as long as the hash pointers are intact.\n",
    "\n",
    "However, this structure alone is not sufficient for a full-fledged blockchain with transactions due to the following reasons:\n",
    "\n",
    "* **Efficiency in Verification:** Verifying the integrity of a single block requires traversing the entire chain from the head to the block in question. This can be inefficient for large blockchains.\n",
    "* **Proof of Membership:** Proving that a particular transaction exists in the blockchain is not straightforward and requires traversing the entire chain.\n",
    "* **Proof of Nonmembership:** Proving that a particular transaction does not exist is even more complex and inefficient.\n",
    "\n",
    "\n",
    "Merkle trees address these inefficiencies by providing a more structured and efficient way to verify data integrity and membership. {cite}`narayanan2016bitcoin`\n",
    "\n",
    "<!-- # https://en.wikipedia.org/wiki/Merkle%E2%80%93Damg%C3%A5rd_construction -->\n"
   ]
  },
  {
   "cell_type": "markdown",
   "metadata": {},
   "source": [
    "### Merkle Trees\n",
    "\n",
    "* Efficient Verification: In a Merkle tree, each leaf node represents a data block (e.g., a transaction), and each non-leaf node represents the hash of its child nodes. The root of the tree is a hash that represents the entire dataset. Verifying the integrity of a single block only requires a logarithmic number of hash computations (log(n)), making it much more efficient than traversing the entire chain. {cite}`narayanan2016bitcoin`"
   ]
  },
  {
   "cell_type": "code",
   "execution_count": null,
   "metadata": {},
   "outputs": [],
   "source": [
    "from merkle_tree import merkleTree, visualizeTree\n",
    "\n",
    "transactions = ['transaction1', 'transaction2', 'transaction3', 'transaction4']\n",
    "tree = merkleTree()\n",
    "tree.makeTreeFromArray(transactions)\n",
    "tree.calculateMerkleRoot()\n",
    "\n",
    "print(\"Merkle Root:\", tree.getMerkleRoot())\n",
    "print(\"\\nTree Structure:\")\n",
    "visualizeTree(tree.root)"
   ]
  },
  {
   "cell_type": "markdown",
   "metadata": {},
   "source": [
    "### Transaction Validation"
   ]
  },
  {
   "cell_type": "markdown",
   "metadata": {},
   "source": [
    "**L:** `830b7f324af3ff2b2a47cf7cf5ac825fe8d8034294ea8e8f853a4d3fada893fc`\n",
    "\n",
    "**Should be:**\n",
    "\n",
    "- **Transaction 1:** `bde4693e55a336ff81ab238ce20cae1dd9c8ba03b9b8f43963f5569bf3cf5229`\n",
    "- **+**\n",
    "- **Transaction 2:** `4beace8bdcf9b5b74630eaee2e7f501180e46025ca89b05e7e041fbe953d817a`\n",
    "\n",
    "**Result:**\n",
    "\n",
    "- **Expected:** `830b7f324af3ff2b2a47cf7cf5ac825fe8d8034294ea8e8f853a4d3fada893fc`"
   ]
  },
  {
   "cell_type": "code",
   "execution_count": null,
   "metadata": {},
   "outputs": [],
   "source": [
    "from hash_functions import sha256_hash\n",
    "\n",
    "def verify_merkle_tree():\n",
    "        txn1_hash = 'bde4693e55a336ff81ab238ce20cae1dd9c8ba03b9b8f43963f5569bf3cf5229'\n",
    "        txn2_hash = '4beace8bdcf9b5b74630eaee2e7f501180e46025ca89b05e7e041fbe953d817a'\n",
    "        expected = '830b7f324af3ff2b2a47cf7cf5ac825fe8d8034294ea8e8f853a4d3fada893fc'\n",
    "        \n",
    "        combined_hash = sha256_hash(txn1_hash + txn2_hash)\n",
    "\n",
    "        print(f\"Combined hash: {combined_hash}\")\n",
    "        print(f\"Expected: {expected}\")\n",
    "        assert combined_hash == expected, f\"Hash mismatch: {combined_hash} != {expected}\"\n",
    "\n",
    "verify_merkle_tree()"
   ]
  },
  {
   "cell_type": "markdown",
   "metadata": {},
   "source": [
    "We can also prove that the negation is valid."
   ]
  },
  {
   "cell_type": "code",
   "execution_count": null,
   "metadata": {},
   "outputs": [],
   "source": [
    "def verify_merkle_tree():\n",
    "        txn1_hash = 'bde4693e55a336ff81ab238ce20cae1dd9c8ba03b9b8f43963f5569bf3cf5228'\n",
    "        txn2_hash = '4beace8bdcf9b5b74630eaee2e7f501180e46025ca89b05e7e041fbe953d817a'\n",
    "        expected = '830b7f324af3ff2b2a47cf7cf5ac825fe8d8034294ea8e8f853a4d3fada893fc'\n",
    "        \n",
    "        combined_hash = sha256_hash(txn1_hash + txn2_hash)\n",
    "\n",
    "        print(f\"Combined hash: {combined_hash}\")\n",
    "        print(f\"Expected: {expected}\")\n",
    "        assert combined_hash == expected, f\"Hash mismatch: {combined_hash} != {expected}\"\n",
    "\n",
    "verify_merkle_tree()"
   ]
  },
  {
   "cell_type": "markdown",
   "metadata": {},
   "source": [
    "<!-- Erweiterungs-Angriff (Extension-Attack) -->\n",
    "\n",
    "#### How does a Merkle Tree form to blocks in a blockchain?"
   ]
  },
  {
   "cell_type": "markdown",
   "metadata": {},
   "source": [
    "<img src=\"../_static/images/merkle_tree.png\">"
   ]
  },
  {
   "cell_type": "markdown",
   "metadata": {},
   "source": [
    "**Important Practical properties Merkle Tree vs. Hashed linked lists:**\n",
    "\n",
    "* **Scalability:** Merkle trees scale well with the size of the dataset. As the number of transactions grows, the depth of the tree increases logarithmically, maintaining efficient verification times.\n",
    "* **Concise Proofs:** Both membership and nonmembership proofs are concise and efficient, making them suitable for large datasets.\n",
    "* **Parallelism:** Merkle trees allow for parallel computation of hashes, which can speed up the process of building and verifying the tree. {cite}`narayanan2016bitcoin`"
   ]
  },
  {
   "cell_type": "code",
   "execution_count": 1,
   "metadata": {},
   "outputs": [
    {
     "name": "stdout",
     "output_type": "stream",
     "text": [
      "Block size: 4292\n",
      "Steps taken: 4299\n",
      "True\n"
     ]
    }
   ],
   "source": [
    "import requests\n",
    "import hashlib\n",
    "import random\n",
    "\n",
    "def fetch_latest_block():\n",
    "    response = requests.get('https://blockchain.info/q/latesthash?cors=true')\n",
    "    return response.text.strip()\n",
    "\n",
    "def fetch_merkle_root_and_transactions(block):\n",
    "    response = requests.get(f'https://blockchain.info/rawblock/{block}?cors=true')\n",
    "    data = response.json()\n",
    "    return data['mrkl_root'], [tx['hash'] for tx in data['tx']]\n",
    "\n",
    "def to_bytes(hex_str):\n",
    "    return bytes.fromhex(hex_str)\n",
    "\n",
    "def to_hex(byte_arr):\n",
    "    return byte_arr.hex()\n",
    "\n",
    "def to_pairs(arr):\n",
    "    return [arr[i:i + 2] for i in range(0, len(arr), 2)]\n",
    "\n",
    "def hash_pair(a, b=None):\n",
    "    if b is None:\n",
    "        b = a\n",
    "    bytes_combined = to_bytes(b + a)[::-1]\n",
    "    hashed = hashlib.sha256(hashlib.sha256(bytes_combined).digest()).digest()\n",
    "    return to_hex(hashed[::-1])\n",
    "\n",
    "def merkle_proof(txs, tx, proof=None, steps=0):\n",
    "    if proof is None:\n",
    "        proof = []\n",
    "\n",
    "    if len(txs) == 1:\n",
    "        return proof, steps\n",
    "\n",
    "    tree = []\n",
    "\n",
    "    for pair in to_pairs(txs):\n",
    "        hash_val = hash_pair(*pair)\n",
    "        if tx in pair:\n",
    "            idx = pair.index(tx) == 0\n",
    "            proof.append((idx, pair[idx]))\n",
    "            tx = hash_val\n",
    "        tree.append(hash_val)\n",
    "        steps += 1\n",
    "\n",
    "    return merkle_proof(tree, tx, proof, steps)\n",
    "\n",
    "def merkle_proof_root(proof, tx):\n",
    "    root = tx\n",
    "    for idx, tx in proof:\n",
    "        if idx:\n",
    "            root = hash_pair(root, tx)\n",
    "        else:\n",
    "            root = hash_pair(tx, root)\n",
    "    return root\n",
    "\n",
    "def main():\n",
    "    latest_block = fetch_latest_block()\n",
    "    root, txs = fetch_merkle_root_and_transactions(latest_block)\n",
    "    tx = random.choice(txs)\n",
    "    # manipulate the transaction\n",
    "    # tx = tx.replace('0', '1')\n",
    "    proof, steps = merkle_proof(txs, tx)\n",
    "    block_size = len(txs)\n",
    "    print(f\"Block size: {block_size}\")\n",
    "    print(f\"Steps taken: {steps}\")\n",
    "    if merkle_proof_root(proof, tx) == root:\n",
    "        print(True)\n",
    "    else:\n",
    "        print(False)\n",
    "\n",
    "if __name__ == \"__main__\":\n",
    "    main()\n"
   ]
  },
  {
   "cell_type": "markdown",
   "metadata": {},
   "source": [
    "#### Why do we need Merkle Trees in blockchains?"
   ]
  },
  {
   "cell_type": "markdown",
   "metadata": {},
   "source": [
    "<div class=\"alert alert-info\"><b>INFO</b><br />\n",
    "To cheaply (cheaply in the sense of computation) verify if a transaction existed/not existed in a block, which we can find out by checking if the merkle root is correct. \n",
    "</div>\n",
    "\n",
    "**To check a transaction only need:**\n",
    "1. The merkle root\n",
    "2. The hash of the transaction that you want to check.\n",
    "3. Hashes of the sibling nodes along the path from the transaction hash to the merkle root {cite}`narayanan2016bitcoin`"
   ]
  },
  {
   "cell_type": "markdown",
   "metadata": {},
   "source": [
    "#### Proof of Membership and Nonmembership\n",
    "\n",
    "* **Proof of Membership:** To prove that a particular transaction is part of the blockchain, you only need to provide the transaction, its hash, and the hashes of its sibling nodes up to the root. This proof is concise and can be verified in logarithmic time.\n",
    "\n",
    "* **Proof of Nonmembership:** In a sorted Merkle tree, proving nonmembership involves showing the path to the items just before and after the position where the transaction would be. This proof is also efficient and can be verified in logarithmic time. {cite}`narayanan2016bitcoin`"
   ]
  },
  {
   "cell_type": "markdown",
   "metadata": {},
   "source": [
    "## Identities and Digital Signatures"
   ]
  },
  {
   "cell_type": "markdown",
   "metadata": {},
   "source": [
    "### Identities"
   ]
  },
  {
   "cell_type": "markdown",
   "metadata": {},
   "source": [
    "* **Public Key:** cryptographic key used to receive funds\n",
    "    *   derived from the private key and can be shared publicly\n",
    "* **Private Key:** cryptographic key used to sign transactions\n",
    "    *   must be kept secret and secure\n",
    "* **Wallet Address:** shorter, user-friendly form of the public key {cite}`narayanan2016bitcoin`\n"
   ]
  },
  {
   "cell_type": "markdown",
   "metadata": {},
   "source": [
    "### Digital Signatures"
   ]
  },
  {
   "cell_type": "markdown",
   "metadata": {},
   "source": [
    "<div class=\"alert alert-info\"><b>INFO</b><br />\n",
    "Digital signatures are cryptographic mechanisms that provide a digital equivalent to handwritten signatures.\n",
    "</div>\n",
    "\n",
    "\n",
    "**Properties:**\n",
    "* **Authenticity:** Only the owner of the private key can create a valid signature.\n",
    "* **Verification:** Anyone with the corresponding public key can verify the authenticity of the signature.\n",
    "* **Document Binding:** The signature is tied to a specific document, preventing it from being reused on different documents. {cite}`narayanan2016bitcoin`"
   ]
  },
  {
   "cell_type": "markdown",
   "metadata": {},
   "source": [
    "**General Digital Signature Scheme:**\n",
    "* **generateKeys(keysize)**: Produces a pair of keys—a private key (sk) for signing and a public key (pk) for verification.\n",
    "* **sign(sk, message)**: Uses the private key to generate a signature for a given message.\n",
    "* **verify(pk, message, sig)**: Uses the public key to verify if a given signature is valid for the message. {cite}`narayanan2016bitcoin`"
   ]
  },
  {
   "cell_type": "markdown",
   "metadata": {},
   "source": [
    "**Security Properties:**\n",
    "* **Transaction Integrity:** Digital signatures ensure that only the owner of a cryptocurrency can authorize transactions, preventing unauthorized spending.\n",
    "* **Verification:** Nodes in the network can verify transactions using the public key, ensuring the authenticity and integrity of transactions.\n",
    "* **Security:** The unforgeability property protects against fraudulent transactions, maintaining the trust and security of the cryptocurrency system. {cite}`narayanan2016bitcoin`"
   ]
  },
  {
   "cell_type": "markdown",
   "metadata": {},
   "source": [
    "#### Unforgeability"
   ]
  },
  {
   "cell_type": "markdown",
   "metadata": {},
   "source": [
    "<div class=\"alert alert-info\"><b>INFO</b><br />\n",
    "An attacker should not be able to forge signatures on messages that were not signed by the legitimate signer.\n",
    "</div>"
   ]
  },
  {
   "cell_type": "markdown",
   "metadata": {},
   "source": [
    "The unforgeability property is formalized through a game played between a challenger and an adversary. The challenger generates a key pair and gives the public key to the adversary.\n",
    "\n",
    "<img src=\"../_static/images/unforge.png\"> {cite}`narayanan2016bitcoin`"
   ]
  },
  {
   "cell_type": "markdown",
   "metadata": {},
   "source": [
    "* In the game, the adversary is allowed to request signatures on messages of their choice from the challenger, who uses the secret key to sign them. This models a real-world scenario where an attacker may see valid signatures on some messages.\n",
    "* After seeing some signatures, the adversary picks a message M that they will attempt to forge a signature on. The only restriction is that M must not be a message the adversary previously requested a signature for.\n",
    "* The adversary wins the game if they can produce a valid signature on M that verifies under the public key. The signature scheme is considered unforgeable if no adversary can win this game with a non-negligible probability.\n",
    "\n",
    "<div class=\"alert alert-info\"><b>INFO</b><br />\n",
    "For a signature scheme to be secure, it must be computationally infeasible for any adversary to win the unforgeability game, even if they can see signatures on other messages of their choosing.\n",
    "</div> {cite}`narayanan2016bitcoin`"
   ]
  },
  {
   "cell_type": "markdown",
   "metadata": {},
   "source": [
    "#### Digital Signatures in Bitcoin"
   ]
  },
  {
   "cell_type": "markdown",
   "metadata": {},
   "source": [
    "**Bitcoin Transaction Structure:**\n",
    "* **scriptSig:** This is part of the transaction input and contains the digital signature and the public key. It proves that the transaction is authorized by the owner of the private key.\n",
    "* **scriptPubKey**: This is part of the transaction output and specifies the conditions under which the output can be spent. This includes the public key hash, which must match the public key provided in the *scriptSig*. {cite}`narayanan2016bitcoin`"
   ]
  },
  {
   "cell_type": "markdown",
   "metadata": {},
   "source": [
    "**Bitcoin Digital Signature Scheme:**\n",
    "* **Key Generation (Wallet creation):** A user generates a private key and a corresponding public key.\n",
    "* **Signing:** When creating a transaction, the user signs the transaction data with their private key. This signature is included in the *scriptSig*.\n",
    "* **Verification:** Nodes in the Bitcoin network use the public key (included in the *scriptSig*) and the conditions specified in the scriptPubKey to verify the signature. If the signature is valid, the transaction is considered authentic and is added to the blockchain. {cite}`narayanan2016bitcoin`\n"
   ]
  },
  {
   "cell_type": "markdown",
   "metadata": {},
   "source": [
    "<img src=\"../_static/images/transaction.png\">\n",
    "\n",
    "<!-- https://blockstream.info/testnet/tx/da2d3adf3777c29c8b2b053ce189c29fd17431a643917449bcd047a7bd0cb754?expand -->"
   ]
  },
  {
   "cell_type": "markdown",
   "metadata": {},
   "source": [
    "#### Elliptic Curve Digital Signature Algorithm (ECDSA)"
   ]
  },
  {
   "cell_type": "markdown",
   "metadata": {},
   "source": [
    "\n",
    "<div class=\"alert alert-info\"><b>INFO</b><br />\n",
    "A digital signature system allows you to generate your own private/public key pair. You can then use the private key to generate signatures that prove you are the owner of the public key, without having to reveal the private key.\n",
    "</div>\n",
    "\n",
    "ECDSA allows the owner of a private key to sign a transaction, providing proof that they authorize the Bitcoin transfer. Anyone can then verify this signature using the corresponding public key.\n",
    "\n",
    "<img src=\"../_static/images/ecdsa.png\">"
   ]
  },
  {
   "cell_type": "markdown",
   "metadata": {},
   "source": [
    "* The intersection points look like they are randomly distributed.\n",
    "<img src=\"../_static/images/ecdsa2.png\"> {cite}`Elliptic29:online`\n"
   ]
  },
  {
   "cell_type": "markdown",
   "metadata": {},
   "source": [
    "* We intersect with only 1 point (never > 1)\n",
    "* Public Key is $Q=xG$\n",
    "  * *This is also known as a \"trapdoor function\" because it is easy to compute the public key from the private key, but infeasible to reverse the process.*\n",
    "* Private Key is $x$\n",
    "\n",
    "* When you have the private key, you know exactly how many steps you have to take\n",
    "* When you only have the Public Key, you only have the end point.\n",
    "  * *So by guessing you have to try every of these steps & you don't know how many steps to get there.*\n"
   ]
  },
  {
   "cell_type": "markdown",
   "metadata": {},
   "source": [
    "<img src=\"https://blog.cloudflare.com/content/images/image02.gif\"> {cite}`ECDSAThe63:online`\n",
    "\n"
   ]
  },
  {
   "cell_type": "markdown",
   "metadata": {},
   "source": [
    "<div class=\"alert alert-warning\">\n",
    "<b>Fun fact:</b><br />\n",
    "Satoshi Nakamoto chose the elliptic curve secp256k1 for Bitcoin, which is very rarely used outside of Bitcoin for practical applications (e.g., TLS key exchange uses the more common secp256r1 curve). Conspiracy theorists believe it is due to its mistrust of the U.S. National Security Agency (NSA) and other secret services.\n",
    "</div>"
   ]
  },
  {
   "cell_type": "markdown",
   "metadata": {},
   "source": [
    "## Bitcoin ECDSA Signing Process"
   ]
  },
  {
   "cell_type": "markdown",
   "metadata": {},
   "source": [
    "\n",
    "<img src=\"https://static.learnmeabitcoin.com/diagrams/png/ecdsa-bitcoin.png\"> {cite}`ECDSAEll73:online`"
   ]
  },
  {
   "cell_type": "markdown",
   "metadata": {},
   "source": [
    "#### Components:\n",
    "* **$ k $**: A randomly chosen integer for each signature, known as the ephemeral key.\n",
    "* **$ k^{-1} $**: The modular inverse of $ k $.\n",
    "* **$ z $**: The hash of the message being signed.\n",
    "* **$ d $**: The private key.\n",
    "* **$ r $**: The x-coordinate of the point $ R $ on the elliptic curve, where $ R = kG $.\n",
    "\n",
    "#### Formula Explanation:\n",
    "$ s = k^{-1}(z + d \\cdot r) $ {cite}`narayanan2016bitcoin`"
   ]
  },
  {
   "cell_type": "markdown",
   "metadata": {},
   "source": [
    "#### Steps in the ECDSA Signing Process:\n",
    "1. **Generate a Random Integer $ k $**:\n",
    "   - Choose a random integer $ k $ from the interval $[1, n-1]$, where $ n $ is the order of the elliptic curve.\n",
    "\n",
    "2. **Calculate the Point $ R $**:\n",
    "   - Compute the elliptic curve point $ R = kG $, where $ G $ is the generator point of the curve.\n",
    "   - Extract the x-coordinate of $ R $, denoted as $ r $.\n",
    "\n",
    "3. **Calculate $ s $**:\n",
    "   - Compute the modular inverse of $ k $, denoted as $ k^{-1} $.\n",
    "   - Compute the value $ s $ using the formula:\n",
    "     $ s = k^{-1}(z + d \\cdot r) $ {cite}`narayanan2016bitcoin`\n"
   ]
  },
  {
   "cell_type": "markdown",
   "metadata": {},
   "source": [
    "<img src=\"https://static.learnmeabitcoin.com/technical/cryptography/elliptic-curve/ecdsa/point-sign.gif\"> {cite}`ECDSAEll73:online`"
   ]
  },
  {
   "cell_type": "markdown",
   "metadata": {},
   "source": [
    "#### Purpose of the Formula:\n",
    "- The formula $ s = k^{-1}(z + d \\cdot r) $ is used to generate the second part of the ECDSA signature.\n",
    "- The signature consists of the pair $(r, s)$.\n",
    "- This ensures that the signature is unique for each message and private key combination, and it can be verified using the corresponding public key. {cite}`narayanan2016bitcoin`"
   ]
  },
  {
   "cell_type": "markdown",
   "metadata": {},
   "source": [
    "## Verification"
   ]
  },
  {
   "cell_type": "markdown",
   "metadata": {},
   "source": [
    "- The signature $(r, s)$ can be verified by anyone who has the public key $ Q $ and the message.\n",
    "- The verification process involves checking that the signature was indeed generated using the private key corresponding to the public key.\n",
    "\n",
    "<div class=\"alert alert-info\"><b>INFO NONCE REUSE ATTACK</b><br />\n",
    "In ECDSA, if the same nonce (k) is used to sign two different messages, it becomes possible for an attacker to recover the private key.\n",
    "\n",
    "* Signature 1: (r, s1) for message1\n",
    "* Signature 2: (r, s2) for message2\n",
    "\n",
    "The attacker can recover the private key d using this equation:\n",
    "\n",
    "$d = \\frac{h_1 \\cdot s_2 - h_2 \\cdot s_1}{r \\cdot (s_1 - s_2)} \\mod n$\n",
    "\n",
    "Where:\n",
    "\n",
    "* h1 and h2 are the hashes of message1 and message2\n",
    "* n is the order of the elliptic curve group\n",
    "\n",
    "Once the attacker has the private key d, they can forge signatures and spend the victim's bitcoins.\n",
    "</div>"
   ]
  },
  {
   "cell_type": "markdown",
   "metadata": {},
   "source": [
    "## Bitcoin Improvement Proposals (BIPs)"
   ]
  },
  {
   "cell_type": "markdown",
   "metadata": {},
   "source": [
    "* design document providing information to the Bitcoin community, or describing a new feature for Bitcoin or its processes or environment {cite}`bipsBipsdevRead:online`\n",
    "* aim to standardize changes and improvements in protocol and software\n",
    "* **Examples**\n",
    "    * **BIP32** Hierarchical Deterministic Wallets (HD Wallets)\n",
    "    * **BIP39** Introduced Mnemonic phrases for generating deterministic keys\n",
    "    * **BIP44** Multi-Account Hierarchy for Deterministic Wallets\n"
   ]
  },
  {
   "cell_type": "markdown",
   "metadata": {},
   "source": [
    "#### BIP44: Multi-Account Hierarchy for Deterministic Wallets\n",
    "* BIP44 defines a derivation path for HD Wallets to manage multiple cryptocurrencies and accounts\n",
    "* **Derivation path**: ```m / purpose' / coin_type' / account' / change / address_index```\n",
    "    * **Purpose**: constant set to 44' (or 0x8000002C) to indicate the following path is according to BIP44\n",
    "    * **Coin Type**: constant representing a particular cryptocurrency (e.g., 0' for Bitcoin, 1' for Testnet)\n",
    "    * **Account**: index of the account (0-indexed)\n",
    "    * **Change**: 0 for external addresses (used for receiving funds) and 1 for internal addresses (used for change)\n",
    "    * **Address Index**: index of the address (0-indexed)"
   ]
  },
  {
   "cell_type": "markdown",
   "metadata": {},
   "source": [
    "#### Interaction of Private Key, Public Key, and Mnemonic Phrase\n",
    "* BIP39 introduced mnemonic phrases to generate a seed from which private keys are derived\n",
    "    * typically consist of 12 to 24 words from standardized wordlist\n",
    "        * each word corresponds to a unique combination of binary digits\n",
    "* **Private Key**\n",
    "    * master private key is derived from the seed\n",
    "        * tree of keys (both private and public) can then be generated from master\n",
    "        * each private key corresponds to a public key through elliptic curve cryptography\n",
    "* **Public Key**\n",
    "    * derived from the private key\n",
    "    * hashed (SHA-256 and RIPEMD-160) and encoded (Base58 for Bitcoin) to create the wallet address"
   ]
  },
  {
   "cell_type": "markdown",
   "metadata": {},
   "source": [
    "#### Example\n",
    "\n",
    "1. Mnemonic Phrase Generation (BIP39)\n",
    "    * choose 12 to 24 words from [BIP39 wordlist](https://github.com/bitcoin/bips/blob/master/bip-0039/english.txt)\n",
    "    * \"submit exhaust essence weasel minimum credit avocado unknown rent organ approve wise\"\n",
    "    * creates seed *19896a7b301a9c5396e7666d89522094ff8c0bde15b2b5bc3d3457aa1a2137c962b873bb83eec73c226fdd6f7662d7f3c9237c07b9c4dcbbd9e917393bc6f274*\n",
    "2. Master Key Derivation (BIP32)\n",
    "    * hashing the seed with HMAC-SHA512\n",
    "    * *xprv9s21ZrQH143K4PC6Ew4TQvWME3vFqFzJdYYdGQKBxCdH7pbPi7f2sHp4JPeuBXxNMjNyoTtqAxLAv54ZhbEHBoF9u13EzEiJjpfqUimiF5j*\n",
    "3. BIP 44 Path Derivation\n",
    "    * e.g., m/44'/0'/0'/0/0\n",
    "        * extended private key: *xprv9xiKcHqg5gajx98dfsxk9yWE4Fc7NwjehvsoCLoZZNv6rFL8RNMJGsoqMZXS1sNYZpXthgtLLELSZdRKjxMdA1ugiTRbfMShthWzNFK9qnz*\n",
    "        * extended public key: *xpub6Bhg1oNZv493AdD6muVkX7SxcHSbnQTW59oPzjDB7iT5j3fGxufYpg8KCqcH9jh17Csuuc8ievqHrkKPevZmWbKLobtskqoaDdW2cNbEXMf*\n"
   ]
  },
  {
   "cell_type": "markdown",
   "metadata": {},
   "source": [
    "<div class=\"alert alert-warning\">\n",
    "<b>Fun fact (or not so funny maybe):</b><br />\n",
    "Bitcoin Improvement Proposals were introduced by a very interesting guy called Amir Taaki which made his living as a professional poker player, served for the YPG military in the fight against Islamic State (ISIS) in Syrian Civil War and resided since 2013 in an anarchist squat in the former anti-G8 HQ building in London, England.\n",
    "</div> <img src=\"https://encrypted-tbn0.gstatic.com/images?q=tbn:ANd9GcTKauKLc9SprlwfhFLG33MWsBCgc_SKvHFB--E_Zyc8rZMLmzEA\" width=\"200\"> {cite}`BitcoinI83:online` {cite}`HowAnarc47:online` {cite}`webarchi80:online` {cite}`webarchi80:online` {cite}`Hidingcu87:online`\n",
    "\n"
   ]
  },
  {
   "cell_type": "markdown",
   "metadata": {},
   "source": [
    "## Consensus Algorithm"
   ]
  },
  {
   "cell_type": "markdown",
   "metadata": {},
   "source": [
    "Now we know nearly fundamental technical details of blockchains and we now can understand how the consensus algorithm works in practice.\n",
    "\n",
    "<div class=\"alert alert-info\"><b>Why Consensus Algorithms are Needed:</b><br />\n",
    "\n",
    "* Decentralization: To ensure that no single entity controls the entire system.\n",
    "* Agreement: To ensure all nodes in the network agree on the state of the blockchain.\n",
    "* Security: To protect against malicious actors and ensure the integrity of transactions.\n",
    "\n",
    "</div>\n",
    "\n"
   ]
  },
  {
   "cell_type": "markdown",
   "metadata": {},
   "source": [
    "**What are aspects need to be adressed by the Consensus Algorithm in Blockchains?**\n",
    "* Transaction Validation: Ensuring that all transactions are valid and have not been spent before.\n",
    "* Order of Transactions: Agreeing on the order in which transactions are added to the blockchain.\n",
    "* Fault Tolerance: Handling nodes that may crash or act maliciously.\n",
    "* Network Imperfections: Dealing with issues like latency and network partitions.\n",
    "* Randomness and Incentives: Introducing randomness and incentives to encourage honest participation.\n",
    "* Global Time: Achieving consensus without relying on a global clock or synchronized timestamps."
   ]
  },
  {
   "cell_type": "markdown",
   "metadata": {},
   "source": [
    "**What major security restrictions that need to be taken care by the Consensus Algorithms in Blockchains?**\n",
    "* The Byzantine Generals Problem:\n",
    " * Summary: Ensuring that all honest nodes can reach consensus even if some nodes in the whole system are malicious.\n",
    "* The Fischer-Lynch-Paterson Impossibility Result:\n",
    " * Description: In a deterministic consensus algorithm (nodes acting deterministic), it is impossible to guarantee consensus if there is even a single faulty process. "
   ]
  },
  {
   "cell_type": "markdown",
   "metadata": {},
   "source": [
    "<div class=\"alert alert-info\"><b>How Consensus is Addressed in Bitcoin (simplified):</b><br />\n",
    "\n",
    "1. Broadcasting Transactions: New transactions are broadcast to all nodes in the network.\n",
    "2. Block Proposal: Each node collects new transactions into a block.\n",
    "3. Random Node Selection: In each round, a random node is selected to propose the next block.\n",
    "4. Block Validation: Other nodes accept the block only if all transactions in it are valid.\n",
    "5. Implicit Consensus: Nodes express their acceptance by including the hash of the accepted block in the next block they create.\n",
    "\n",
    "</div>\n"
   ]
  },
  {
   "cell_type": "markdown",
   "metadata": {},
   "source": [
    "#### Which transactions are the valid ones? (Mining)\n",
    "\n",
    "**What is mining now exactly?**\n",
    "* **Role of Mining:** Mining is the process by which nodes (miners) *compete to propose the next block*.\n",
    "* **Proof of Work**: Miners solve (brute force try and error) a computational puzzle to earn the right to propose a block, ensuring randomness and security.\n",
    "* **Incentives**: Miners are rewarded with newly minted bitcoins (currently 3.125 bitcoins per block and halves approx. every 210,000 blocks == approx. 4 years.) and the paid transaction fees (ranging from few hundred dollars to thousands of dollars per block), incentivizing honest behavior. {cite}`narayanan2016bitcoin`"
   ]
  },
  {
   "cell_type": "markdown",
   "metadata": {},
   "source": [
    "**Important aspects:**\n",
    "\n",
    "* **Block Height as Global Time:** It is used as the global time because it determines the timing of halvings and other protocol events (activation of soft forks etc.).\n",
    "\n",
    "* **Proposing new blocks with adjusted Difficulty:** Approx. Every 10 minutes a new block with validated transactions is proposed. \n",
    "  * Why can this happen with Moores Law?\n",
    "    * Block headers contain a field called \"difficulty target\" which determines how hard it is to find a valid hash for that block. The difficulty target is a 256-bit number, and a valid block hash must be less than this target.\n",
    "    * The network adjusts the difficulty target every 2016 blocks.\n",
    "      * The adjustment is based on the actual time it took to mine the last 2016 blocks compared to the target time of 20160 minutes (2016 blocks * approx. this 10 minutes (read from a UTC unix timestamp in the block headers).\n",
    "        * If the actual time is less than 20160 minutes, the difficulty increases (finding more leading zeros in the hash).\n",
    "        * If the actual time is more than 20160 minutes, the difficulty decreases (finding less leading zeros in the hash). {cite}`narayanan2016bitcoin`"
   ]
  },
  {
   "cell_type": "markdown",
   "metadata": {},
   "source": [
    "**Confirmations:**\n",
    "  * 0 Confirmations: The transaction has been broadcast to the network but has not yet been included in a block. It is still in the mempool and is considered unconfirmed.\n",
    "  * 1 Confirmation: When a transaction is first included in a block and that block is added to the blockchain, the transaction is said to have one confirmation.\n",
    "  * 2 Confirmations: One additional block has been added to the blockchain after the block containing the transaction.\n",
    "  * ... More confirmations mean higher security and lower risk of transaction reversal.\n"
   ]
  },
  {
   "cell_type": "markdown",
   "metadata": {},
   "source": [
    "<img src=\"../_static/images/bitcoin_trans.png\">"
   ]
  },
  {
   "cell_type": "markdown",
   "metadata": {},
   "source": [
    "<div class=\"alert alert-warning\">\n",
    "<b>Questions: </b><br/>\n",
    "\n",
    "* How much fees was paid to the miners for this transaction?\n",
    "* How much Bitcoin was sent in this transaction?\n",
    "* How many blocks have been added after the block that included this transaction?\n",
    "\n",
    "</div>\n",
    "\n",
    "\n",
    "<!-- https://blockstream.info/testnet/tx/23c9470a2269cf6430569afdd3e2e8f35f633b6cdbc34107ddbab932c4146ba3 -->\n",
    "\n",
    "<!-- Wie mining zusammenhängt letztlich mit dem blockexplorer: -->"
   ]
  },
  {
   "cell_type": "markdown",
   "metadata": {},
   "source": [
    "### Peer-to-Peer Electronic Cash System Syntax"
   ]
  },
  {
   "cell_type": "markdown",
   "metadata": {},
   "source": [
    "<div class=\"alert alert-info\"><b>Bitcoin Script in Unspent Transaction Output (UTXO)</b><br />\n",
    "\n",
    "Bitcoin Script in practice is a stack based programming language similar to Forth, RPL, and PostScript but with a few important differences, most importantly that its **not Turing complete**.\n",
    "\n",
    "Main purpose in Bitcoin is to have a flexible language that can provide following:\n",
    "* **Locking and Unlocking Scripts:** Bitcoin transactions use a combination of locking scripts (also known as scriptPubKey) and unlocking scripts (also known as scriptSig). The locking script specifies the conditions that must be met to spend the output, while the unlocking script provides the data to satisfy those conditions.\n",
    "* **Script Execution:** When a transaction is being validated, the Bitcoin network executes the scripts to ensure that the unlocking script correctly satisfies the locking script's conditions. If the conditions are met, the transaction is considered valid.\n",
    "\n",
    "</div>"
   ]
  },
  {
   "cell_type": "markdown",
   "metadata": {},
   "source": [
    "**Bitcoin Script has a very simple syntax:**\n",
    "* Sequence of Operations: Consists of a sequence of operations.\n",
    "* Single Byte Operations: Each operation has a single byte that indicates the operation.\n",
    "* OP_CODE: The operation is defined via an OP_CODE.\n",
    "  * Some OP_CODEs are followed by data. (e.g. OP_PUSHBYTES_32)\n",
    "  * Some OP_CODEs have special functions, such as checking equality (e.g. OP_EQUAL Returns 1 if the inputs are exactly equal, 0 otherwise.).\n"
   ]
  },
  {
   "cell_type": "markdown",
   "metadata": {},
   "source": [
    "Example:\n",
    "```shell\n",
    "OP_DUP OP_HASH256 <PubKeyHash> OP_EQUALVERIFY OP_CHECKSIG\n",
    "```\n",
    "* OP_DUP (0x76): Duplicates the top stack item.\n",
    "* OP_HASH256 (0xaa): The input is hashed two times with SHA-256.\n",
    "* < PubKeyHash >: The public key hash to which the output is locked. This is the data associated with the operation.\n",
    "* OP_EQUALVERIFY (0x88): Verifies that the top two stack items are equal.\n",
    "* OP_CHECKSIG (0xac): Checks the signature against the public key. If it is, 1 is returned, 0 otherwise.\n",
    "\n",
    "There are also very famous IDE's for this type of language like [bitcoinIDE](https://siminchen.github.io/bitcoinIDE/build/editor.html)"
   ]
  },
  {
   "cell_type": "markdown",
   "metadata": {},
   "source": [
    "<div class=\"alert alert-warning\">\n",
    "<b>Important: </b><br/>\n",
    "\n",
    "At the end that a transaction is considered valid if the script execution returns 1 (true). This is checked by the network to ensure that the transaction was correctly signed by the owner of the private key, which in other words **gives access to the unspent value of the transaction**. \n",
    "\n",
    "</div>"
   ]
  },
  {
   "cell_type": "markdown",
   "metadata": {},
   "source": [
    "<!-- ## Security Problems -->\n",
    "<!-- (Überleitung) -->\n",
    "\n",
    "\n",
    "<!-- Sehr sehr wichtig: -->\n",
    "<!-- https://bitcoin.org/en/bitcoin-core/features/validation -->"
   ]
  }
 ],
 "metadata": {
  "celltoolbar": "Slideshow",
  "kernelspec": {
   "display_name": "Python 3 (ipykernel)",
   "language": "python",
   "name": "python3"
  },
  "language_info": {
   "codemirror_mode": {
    "name": "ipython",
    "version": 3
   },
   "file_extension": ".py",
   "mimetype": "text/x-python",
   "name": "python",
   "nbconvert_exporter": "python",
   "pygments_lexer": "ipython3",
   "version": "3.11.9"
  }
 },
 "nbformat": 4,
 "nbformat_minor": 2
}
