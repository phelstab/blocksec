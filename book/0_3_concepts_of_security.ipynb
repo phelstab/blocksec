{
 "cells": [
  {
   "cell_type": "markdown",
   "metadata": {},
   "source": [
    "# 3. Security Aspects and Technical Fundamentals of Blockchain Technology <!-- (*20 Minuten*) -->\n",
    "\n",
    "## The Idea\n",
    "The core idea is to provide a system that is through\n",
    "\n",
    "<!-- Die Kernidee hinter der Blockchain liegt darin ein System zu schaffen das es ermöglicht komplett Dezentral und somit ohne jegliche Intermediäre und damit auch ohne Treuhänder, Transaktionen zwischen Agenten zu ermöglichen.  -->\n",
    "The core idea behind blockchain technology is to create a decentralized system that allows transactions between parties (agents) without the need for intermediaries or trusted third parties.\n",
    "<!-- Dabei übernehmen Mathematische Modelle die auf der Berechenbarkeit und Komplexität Kryptographische verschlüsselungen ermgöglichen, die Aufgaben eines Intermediärs und verteilen diese Aufgaben auf alle Agenten die Teil des Systems sind auch wenn diese eine Aufgabe erhalten die nicht ihrer eigenen Transaktion dient. -->\n",
    "Mathematical models that enable cryptographic encryption based on computability and complexity take on the tasks of an intermediary. The system itself distribute these tasks to all agents in the system, even if they receive a task that is not related to their own transactions.\n",
    "\n",
    "It is replaced as follows:\n",
    "| The Object | Centralized FIAT Object | Blockchain |\n",
    "|-----------|-----------|-----------|\n",
    "| The Storage of Value | Bank Account / Physical Wallet | Public + Private Key linked to realised transactions held by the system |\n",
    "| Transaction | (Digital) Transaction through trustee (middleman) or physical handover between parties | Publishing that an object, has a new owner by its current owner to the whole system through a cryptographic signature |\n"
   ]
  },
  {
   "cell_type": "markdown",
   "metadata": {},
   "source": [
    "### 3.1.1 Cryptographic Hash Functions\n",
    "Because the concept of blockchains is built on different aspects of computation theory, cryptography, and distributed computing, we will start with the core aspects that form a blockchain and begin with the *cryptographic hash functions*.\n",
    "\n",
    "This is a more uncommon approach in science, but we want to first define what properties our hash functions must hold so they can be used in common blockchains, and we will understand the \"Why?\" later when everything comes together.\n",
    "\n",
    "#### Computation\n",
    "**Computational Property 1: *Input Flexibility***\n",
    "The input can be any string of any size.\n",
    "\n",
    "**Computational Property 2: *Fixed-Sized Output***\n",
    "The function produces a fixed-sized output. For this discussion, a 256-bit output size is assumed, but the property holds for any sufficiently large output size.\n",
    "\n",
    "**Computational Property 3: *Efficient Computability***\n",
    "The hash function is efficiently computable, meaning that for a given input string, the output can be determined in a reasonable amount of time. Technically, computing the hash of an n-bit string should have a running time of O(n).\n",
    "\n",
    "\n",
    "#### Cryptography\n",
    "**Cryptographic Property 1: *Collision Resistance***\n",
    "**Definition:** A hash function \\( H \\) is said to be collision resistant if it is infeasible to find two values, \\( x \\) and \\( y \\), such that \\( x \\neq y \\), yet \\( H(x) = H(y) \\).\n",
    "\n",
    "*Why we need this?* We need collision resistance to ensure that it is infeasible to find two different inputs that produce the same hash output, which is crucial for maintaining data integrity and preventing forgery.\n",
    "\n",
    "*Example:* When a transaction is created, it is hashed to produce a transaction ID. If an attacker could find two different transactions that produce the same hash (collision), they could potentially replace a legitimate transaction with a fraudulent one without being detected. This would undermine the integrity of the blockchain.\n",
    "\n",
    "**Cryptographic Property 2: *Hiding***\n",
    "**Definition:** A hash function \\( H \\) is said to be hiding if, when a secret value \\( r \\) is chosen from a probability distribution that has high min-entropy, then, given \\( H(r \\parallel x) \\), it is infeasible to find \\( x \\).\n",
    "\n",
    "*Why we need this?* We need the hiding property to ensure that given a hash output, it is infeasible to determine the original input, which is essential for preserving the confidentiality of the input data.\n",
    "\n",
    "*Example:* The hiding property ensures that the nonce and other block header data cannot be easily deduced from the hash output, maintaining the difficulty and security of the mining process.\n",
    "\n",
    "**Cryptographic Property 3: *Puzzle Friendliness***\n",
    "**Definition:** A hash function \\( H \\) is said to be puzzle friendly if for every possible \\( n \\)-bit output value \\( y \\), if \\( k \\) is chosen from a distribution with high min-entropy, then it is infeasible to find \\( x \\) such that \\( H(k \\| x) = y \\) in time significantly less than \\( 2^n \\).\n",
    "\n",
    "*Why we need this?* Puzzle friendliness ensures that solving the hash function requires a brute-force search, preventing shortcuts and maintaining the security of cryptographic protocols.\n",
    "\n",
    "*Example:* In Bitcoin mining, miners must find a nonce such that the hash of the block header concatenated with the nonce produces a hash with a certain number of leading zeros. Puzzle friendliness ensures there are no shortcuts to finding this nonce, maintaining the difficulty and security of the mining process.\n",
    "\n",
    "\n",
    "### 3.1.2 Hash Pointers\n",
    "The next thing we need are so called Hash Pointers. Imagine a Linked List"
   ]
  },
  {
   "cell_type": "code",
   "execution_count": null,
   "metadata": {},
   "outputs": [],
   "source": [
    "from linked_list import LinkedList\n",
    "\n",
    "ll = LinkedList()\n",
    "ll.append(\"Beta\")\n",
    "ll.append(\"Alpha\")\n",
    "ll.append(\"Delta\")\n",
    "ll.append(\"Gamma\")\n",
    "\n",
    "ll.print_list()"
   ]
  },
  {
   "cell_type": "markdown",
   "metadata": {},
   "source": [
    "But what happens when we have to make sure that the values are 100% statically linked together and we want to make sure that we cannot change any value in (for example) the middle of the linked list without changing every value before the changed one?\n",
    "\n",
    "This is where Hash Pointers come into play. We connect a hash of the previous node's data to the current node. This way, any change in the data of a node will affect the hash, and thus the hash pointer in the next node, creating a chain reaction.\n",
    "\n",
    "Here's how you we can imagine it:"
   ]
  },
  {
   "cell_type": "code",
   "execution_count": null,
   "metadata": {},
   "outputs": [],
   "source": [
    "from linked_list import HashLinkedList\n",
    "\n",
    "hll = HashLinkedList()\n",
    "hll.append(\"Beta\")\n",
    "hll.append(\"Alpha\")\n",
    "hll.append(\"Delta\")\n",
    "hll.append(\"Gamma\")\n",
    "\n",
    "hll.print_list()\n"
   ]
  },
  {
   "cell_type": "code",
   "execution_count": null,
   "metadata": {},
   "outputs": [],
   "source": []
  }
 ],
 "metadata": {
  "kernelspec": {
   "display_name": "venv",
   "language": "python",
   "name": "python3"
  },
  "language_info": {
   "codemirror_mode": {
    "name": "ipython",
    "version": 3
   },
   "file_extension": ".py",
   "mimetype": "text/x-python",
   "name": "python",
   "nbconvert_exporter": "python",
   "pygments_lexer": "ipython3",
   "version": "3.9.13"
  }
 },
 "nbformat": 4,
 "nbformat_minor": 2
}
