{
 "cells": [
  {
   "cell_type": "markdown",
   "metadata": {},
   "source": [
    "# 3. Security Aspects and Technical Fundamentals of Blockchain Technology <!-- (*20 Minuten*) -->\n",
    "\n",
    "**Core idea of blockchain technology:**\n",
    "* Create a decentralized system\n",
    "* Enable transactions between parties (agents)\n",
    "* Eliminate the need for intermediaries\n",
    "* Remove reliance on trusted third parties\n",
    "\n",
    "**How to achieve blockchain technology:**\n",
    "* Mathematical models take over all the functional foundations of blockchain technology.\n",
    "* Mathematical models that enable cryptographic encryption based on computability and complexity take on the tasks of an intermediary.\n",
    "* The system itself distributes these tasks to all agents in the system, even if they receive a task that is not related to their own transactions.\n",
    "\n",
    "It is replaced as follows:\n",
    "| The Object | Centralized FIAT Object | Blockchain |\n",
    "|-----------|-----------|-----------|\n",
    "| The Storage of Value | Bank Account / Physical Wallet | Public + Private Key linked to realized and unspent transactions held by all participants in the system |\n",
    "| Transaction | (Digital) Transaction through trustee (middleman) or physical handover between parties | Publishing that an object has a new owner by its current owner to the whole system through a cryptographic signature |\n",
    "|Identity Verification |\tGovernmental ID cards, passwords, various authentication methods\t| Decentralized identifiers (DIDs), cryptographic proofs, and blockchain-based identity verification |\n",
    "\n",
    "<!-- Die Kernidee hinter der Blockchain liegt darin ein System zu schaffen das es ermöglicht komplett Dezentral und somit ohne jegliche Intermediäre und damit auch ohne Treuhänder, Transaktionen zwischen Agenten zu ermöglichen.  -->\n",
    "<!-- Dabei übernehmen Mathematische Modelle die auf der Berechenbarkeit und Komplexität Kryptographische verschlüsselungen ermgöglichen, die Aufgaben eines Intermediärs und verteilen diese Aufgaben auf alle Agenten die Teil des Systems sind auch wenn diese eine Aufgabe erhalten die nicht ihrer eigenen Transaktion dient. -->\n"
   ]
  },
  {
   "cell_type": "markdown",
   "metadata": {},
   "source": [
    "### 3.1.1 Cryptographic Hash Functions\n",
    "Because the concept of blockchains is built on different aspects of computation theory, cryptography, and distributed computing, we will start with the core aspects that form a blockchain and begin with the *cryptographic hash functions*.\n",
    "\n",
    "This is a more uncommon approach in science, but we want to first define what properties our hash functions must hold so they can be used in common blockchains, and we will understand the \"Why?\" later when everything comes together.\n",
    "\n",
    "#### Computation\n",
    "**Computational Property 1: *Input Flexibility***\n",
    "  * The input can be any string of any size.\n",
    "\n",
    "**Computational Property 2: *Fixed-Sized Output***\n",
    "  * The function produces a fixed-sized output.\n",
    "  * For this discussion, a 256-bit output size is assumed, but the property holds for any sufficiently large output size.\n",
    "\n",
    "**Computational Property 3: *Efficient Computability***\n",
    "  * The hash function is efficiently computable, meaning that for a given input string, the output can be determined in a reasonable amount of time.\n",
    "  * Technically, computing the hash of an n-bit string should have a running time of O(n).\n",
    "\n",
    "\n",
    "#### Cryptography\n",
    "**Cryptographic Property 1: *Collision Resistance***\n",
    "\n",
    "**Definition:** A hash function \\( H \\) is said to be collision resistant if it is infeasible to find two values, \\( x \\) and \\( y \\), such that \\( x \\neq y \\), yet \\( H(x) = H(y) \\).\n",
    "\n",
    "*Why we need this?* \n",
    "  * We need collision resistance to ensure that it is infeasible to find two different inputs that produce the same hash output.\n",
    "  * This is crucial for maintaining data integrity and preventing forgery.\n",
    "\n",
    "*Example:* \n",
    "  * When a transaction is created, it is hashed to produce a transaction ID.\n",
    "  * If an attacker could find two different transactions that produce the same hash (collision), they could potentially replace a legitimate transaction with a fraudulent one without being detected.\n",
    "  * This would undermine the integrity of the blockchain.\n",
    "\n",
    "**Cryptographic Property 2: *Hiding***\n",
    "\n",
    "**Definition:** A hash function \\( H \\) is said to be hiding if, when a secret value \\( r \\) is chosen from a probability distribution that has high min-entropy, then, given \\( H(r \\parallel x) \\), it is infeasible to find \\( x \\).\n",
    "\n",
    "*Why we need this?* \n",
    "  * We need the hiding property to ensure that given a hash output, it is infeasible to determine the original input.\n",
    "  * This is essential for preserving the confidentiality of the input data.\n",
    "\n",
    "*Example:* \n",
    "  * The hiding property ensures that the nonce and other block header data cannot be easily deduced from the hash output.\n",
    "  * Maintains the difficulty and security of the mining process.\n",
    "\n",
    "**Cryptographic Property 3: *Puzzle Friendliness***\n",
    "\n",
    "**Definition:** A hash function \\( H \\) is said to be puzzle friendly if for every possible \\( n \\)-bit output value \\( y \\), if \\( k \\) is chosen from a distribution with high min-entropy, then it is infeasible to find \\( x \\) such that \\( H(k \\| x) = y \\) in time significantly less than \\( 2^n \\).\n",
    "\n",
    "*Why we need this?* \n",
    "  * Puzzle friendliness ensures that solving the hash function requires a brute-force search.\n",
    "  * Prevents shortcuts and maintains the security of cryptographic protocols.\n",
    "\n",
    "*Example:*\n",
    "  * In Bitcoin mining:\n",
    "    * Miners must find a nonce such that the hash of the block header concatenated with the nonce produces a hash with a certain number of leading zeros.\n",
    "    * Puzzle friendliness ensures there are no shortcuts to finding this nonce.\n",
    "    * Maintains the difficulty and security of the mining process.\n",
    "\n",
    "\n",
    "### 3.1.2 Hash Pointers\n",
    "The next thing we need are so called Hash Pointers. Imagine a Linked List"
   ]
  },
  {
   "cell_type": "code",
   "execution_count": null,
   "metadata": {},
   "outputs": [],
   "source": [
    "from linked_list import LinkedList\n",
    "\n",
    "ll = LinkedList()\n",
    "ll.append(\"Beta\")\n",
    "ll.append(\"Alpha\")\n",
    "ll.append(\"Delta\")\n",
    "ll.append(\"Gamma\")\n",
    "\n",
    "ll.print_list()"
   ]
  },
  {
   "cell_type": "markdown",
   "metadata": {},
   "source": [
    "* **Problem: Ensuring Static Linkage of Values**\n",
    "  * We need to ensure that values are statically linked together.\n",
    "  * We want to make sure that we cannot change any value in the middle of the linked list without changing every value before the changed one.\n",
    "\n",
    "* **Solution: Hash Pointers**\n",
    "  * Hash Pointers connect a hash of the previous node's data to the current node.\n",
    "  * Any change in the data of a node will affect the hash, and thus the hash pointer in the next node.\n",
    "  * This creates a chain reaction, ensuring data integrity.\n",
    "\n",
    "* **Visualization:**\n",
    "  * Imagine a linked list where each node contains:\n",
    "    * Data\n",
    "    * Hash Pointer to the previous node's data\n",
    "  * Changing the data in any node will:\n",
    "    * Change the hash of that node\n",
    "    * Change the hash pointer in the next node\n",
    "    * Continue affecting all subsequent nodes\n"
   ]
  },
  {
   "cell_type": "code",
   "execution_count": null,
   "metadata": {},
   "outputs": [],
   "source": [
    "from linked_list import HashLinkedList\n",
    "\n",
    "hll = HashLinkedList()\n",
    "hll.append(\"Beta\")\n",
    "hll.append(\"Alpha\")\n",
    "hll.append(\"Delta\")\n",
    "hll.append(\"Gamma\")\n",
    "hll.append(\"Zeta\")\n",
    "hll.append(\"Omega\")\n",
    "\n",
    "print(\"Original List:\")\n",
    "hll.print_list()\n",
    "hll.visualize()"
   ]
  },
  {
   "cell_type": "code",
   "execution_count": null,
   "metadata": {},
   "outputs": [],
   "source": [
    "hll.manipulate_data(\"Delta\", \"DeltaModified\")\n",
    "print(\"\\nList after manipulating 'Delta':\")\n",
    "hll.print_list()\n",
    "hll.visualize()"
   ]
  },
  {
   "cell_type": "markdown",
   "metadata": {},
   "source": [
    "This structure called *tamper-evident log* is secure against manipulation and hold the following properties:\n",
    "\n",
    "* Tamper Evidence: Any change in the data can be detected.\n",
    "*Integrity: The integrity of the data is maintained as long as the hash pointers are intact.\n",
    "\n",
    "However, this structure alone is not sufficient for a full-fledged blockchain with transactions due to the following reasons:\n",
    "\n",
    "* Efficiency in Verification: Verifying the integrity of a single block requires traversing the entire chain from the head to the block in question. This can be inefficient for large blockchains.\n",
    "* Proof of Membership: Proving that a particular transaction exists in the blockchain is not straightforward and requires traversing the entire chain.\n",
    "* Proof of Nonmembership: Proving that a particular transaction does not exist is even more complex and inefficient.\n",
    "\n",
    "\n",
    "Merkle trees address these inefficiencies by providing a more structured and efficient way to verify data integrity and membership.\n"
   ]
  },
  {
   "cell_type": "code",
   "execution_count": null,
   "metadata": {},
   "outputs": [],
   "source": [
    "# https://en.wikipedia.org/wiki/Merkle%E2%80%93Damg%C3%A5rd_construction"
   ]
  },
  {
   "cell_type": "markdown",
   "metadata": {},
   "source": [
    "### 3.1.3 Merkle Trees\n",
    "\n",
    "* Efficient Verification: In a Merkle tree, each leaf node represents a data block (e.g., a transaction), and each non-leaf node represents the hash of its child nodes. The root of the tree is a hash that represents the entire dataset. Verifying the integrity of a single block only requires a logarithmic number of hash computations (log(n)), making it much more efficient than traversing the entire chain."
   ]
  },
  {
   "cell_type": "code",
   "execution_count": null,
   "metadata": {},
   "outputs": [],
   "source": [
    "from merkle_tree import merkleTree, visualizeTree\n",
    "\n",
    "transactions = ['transaction1', 'transaction2', 'transaction3', 'transaction4']\n",
    "tree = merkleTree()\n",
    "tree.makeTreeFromArray(transactions)\n",
    "tree.calculateMerkleRoot()\n",
    "\n",
    "print(\"Merkle Root:\", tree.getMerkleRoot())\n",
    "print(\"\\nTree Structure:\")\n",
    "visualizeTree(tree.root)"
   ]
  },
  {
   "cell_type": "markdown",
   "metadata": {},
   "source": [
    "### Transaction Validation\n",
    "\n",
    "**L:** `830b7f324af3ff2b2a47cf7cf5ac825fe8d8034294ea8e8f853a4d3fada893fc`\n",
    "\n",
    "**Should be:**\n",
    "\n",
    "- **Transaction 1:** `bde4693e55a336ff81ab238ce20cae1dd9c8ba03b9b8f43963f5569bf3cf5229`\n",
    "- **+**\n",
    "- **Transaction 2:** `4beace8bdcf9b5b74630eaee2e7f501180e46025ca89b05e7e041fbe953d817a`\n",
    "\n",
    "**Result:**\n",
    "\n",
    "- **Expected:** `830b7f324af3ff2b2a47cf7cf5ac825fe8d8034294ea8e8f853a4d3fada893fc`\n"
   ]
  },
  {
   "cell_type": "code",
   "execution_count": null,
   "metadata": {},
   "outputs": [],
   "source": [
    "from hash_functions import sha256_hash\n",
    "\n",
    "def verify_merkle_tree():\n",
    "        txn1_hash = 'bde4693e55a336ff81ab238ce20cae1dd9c8ba03b9b8f43963f5569bf3cf5229'\n",
    "        txn2_hash = '4beace8bdcf9b5b74630eaee2e7f501180e46025ca89b05e7e041fbe953d817a'\n",
    "        expected = '830b7f324af3ff2b2a47cf7cf5ac825fe8d8034294ea8e8f853a4d3fada893fc'\n",
    "        \n",
    "        combined_hash = sha256_hash(txn1_hash + txn2_hash)\n",
    "\n",
    "        print(f\"Combined hash: {combined_hash}\")\n",
    "        print(f\"Expected: {expected}\")\n",
    "        assert combined_hash == expected, f\"Hash mismatch: {combined_hash} != {expected}\"\n",
    "\n",
    "verify_merkle_tree()"
   ]
  },
  {
   "cell_type": "markdown",
   "metadata": {},
   "source": [
    "We can also prove that the negation is valid."
   ]
  },
  {
   "cell_type": "code",
   "execution_count": null,
   "metadata": {},
   "outputs": [],
   "source": [
    "def verify_merkle_tree():\n",
    "        txn1_hash = 'bde4693e55a336ff81ab238ce20cae1dd9c8ba03b9b8f43963f5569bf3cf5228'\n",
    "        txn2_hash = '4beace8bdcf9b5b74630eaee2e7f501180e46025ca89b05e7e041fbe953d817a'\n",
    "        expected = '830b7f324af3ff2b2a47cf7cf5ac825fe8d8034294ea8e8f853a4d3fada893fc'\n",
    "        \n",
    "        combined_hash = sha256_hash(txn1_hash + txn2_hash)\n",
    "\n",
    "        print(f\"Combined hash: {combined_hash}\")\n",
    "        print(f\"Expected: {expected}\")\n",
    "        assert combined_hash == expected, f\"Hash mismatch: {combined_hash} != {expected}\"\n",
    "\n",
    "verify_merkle_tree()"
   ]
  },
  {
   "cell_type": "markdown",
   "metadata": {},
   "source": [
    "<!-- Erweiterungs-Angriff (Extension-Attack) -->\n",
    "\n",
    "#### How does a Merkle Tree form to blocks in a blockchain?\n",
    "\n",
    "<img src=\"../_static/images/merkle_tree.png\">\n",
    "\n",
    "\n",
    "Important Practical properties Merkle Tree vs. Hashed linked lists:\n",
    "\n",
    "* Scalability: Merkle trees scale well with the size of the dataset. As the number of transactions grows, the depth of the tree increases logarithmically, maintaining efficient verification times.\n",
    "\n",
    "* Concise Proofs: Both membership and nonmembership proofs are concise and efficient, making them suitable for large datasets.\n",
    "\n",
    "* Parallelism: Merkle trees allow for parallel computation of hashes, which can speed up the process of building and verifying the tree."
   ]
  },
  {
   "cell_type": "code",
   "execution_count": null,
   "metadata": {},
   "outputs": [],
   "source": [
    "import requests\n",
    "import hashlib\n",
    "import random\n",
    "\n",
    "def fetch_latest_block():\n",
    "    response = requests.get('https://blockchain.info/q/latesthash?cors=true')\n",
    "    return response.text.strip()\n",
    "\n",
    "def fetch_merkle_root_and_transactions(block):\n",
    "    response = requests.get(f'https://blockchain.info/rawblock/{block}?cors=true')\n",
    "    data = response.json()\n",
    "    return data['mrkl_root'], [tx['hash'] for tx in data['tx']]\n",
    "\n",
    "def to_bytes(hex_str):\n",
    "    return bytes.fromhex(hex_str)\n",
    "\n",
    "def to_hex(byte_arr):\n",
    "    return byte_arr.hex()\n",
    "\n",
    "def to_pairs(arr):\n",
    "    return [arr[i:i + 2] for i in range(0, len(arr), 2)]\n",
    "\n",
    "def hash_pair(a, b=None):\n",
    "    if b is None:\n",
    "        b = a\n",
    "    bytes_combined = to_bytes(b + a)[::-1]\n",
    "    hashed = hashlib.sha256(hashlib.sha256(bytes_combined).digest()).digest()\n",
    "    return to_hex(hashed[::-1])\n",
    "\n",
    "def merkle_proof(txs, tx, proof=None, steps=0):\n",
    "    if proof is None:\n",
    "        proof = []\n",
    "\n",
    "    if len(txs) == 1:\n",
    "        return proof, steps\n",
    "\n",
    "    tree = []\n",
    "\n",
    "    for pair in to_pairs(txs):\n",
    "        hash_val = hash_pair(*pair)\n",
    "        if tx in pair:\n",
    "            idx = pair.index(tx) == 0\n",
    "            proof.append((idx, pair[idx]))\n",
    "            tx = hash_val\n",
    "        tree.append(hash_val)\n",
    "        steps += 1\n",
    "\n",
    "    return merkle_proof(tree, tx, proof, steps)\n",
    "\n",
    "def merkle_proof_root(proof, tx):\n",
    "    root = tx\n",
    "    for idx, tx in proof:\n",
    "        if idx:\n",
    "            root = hash_pair(root, tx)\n",
    "        else:\n",
    "            root = hash_pair(tx, root)\n",
    "    return root\n",
    "\n",
    "def main():\n",
    "    latest_block = fetch_latest_block()\n",
    "    root, txs = fetch_merkle_root_and_transactions(latest_block)\n",
    "    tx = random.choice(txs)\n",
    "    # manipulate the transaction\n",
    "    # tx = tx.replace('0', '1')\n",
    "    proof, steps = merkle_proof(txs, tx)\n",
    "    block_size = len(txs)\n",
    "    print(f\"Block size: {block_size}\")\n",
    "    print(f\"Steps taken: {steps}\")\n",
    "    if merkle_proof_root(proof, tx) == root:\n",
    "        print(True)\n",
    "    else:\n",
    "        print(False)\n",
    "\n",
    "if __name__ == \"__main__\":\n",
    "    main()\n"
   ]
  },
  {
   "cell_type": "markdown",
   "metadata": {},
   "source": [
    "#### Why do we need this in blockchains?\n",
    "\n",
    "To cheaply (cheaply in the sense of computation) verify if a transaction existed in a block, which we can find out by checking if the merkle root is correct. \n",
    "\n",
    "To check we only need:\n",
    "1. The merkle root\n",
    "2. The hash of the transaction that I want to check.\n",
    "3. \n",
    "\n",
    "#### Proof of Membership and Nonmembership\n",
    "\n",
    "* **Proof of Membership:** To prove that a particular transaction is part of the blockchain, you only need to provide the transaction, its hash, and the hashes of its sibling nodes up to the root. This proof is concise and can be verified in logarithmic time.\n",
    "\n",
    "* **Proof of Nonmembership:** In a sorted Merkle tree, proving nonmembership involves showing the path to the items just before and after the position where the transaction would be. This proof is also efficient and can be verified in logarithmic time."
   ]
  },
  {
   "cell_type": "markdown",
   "metadata": {},
   "source": [
    "### 3.1.5 UTXO\n",
    "\n"
   ]
  },
  {
   "cell_type": "code",
   "execution_count": null,
   "metadata": {},
   "outputs": [],
   "source": [
    "# Bitcoin Script"
   ]
  },
  {
   "cell_type": "markdown",
   "metadata": {},
   "source": [
    "### 3.1.5 Digital Signatures\n",
    "\n",
    "#### Elliptic Curve Digital Signature Algorithm (ECDSA)\n",
    "\n",
    "#### Secp256k1"
   ]
  },
  {
   "cell_type": "markdown",
   "metadata": {},
   "source": [
    "### 3.1.6 Identities"
   ]
  },
  {
   "cell_type": "markdown",
   "metadata": {},
   "source": [
    "### 3.1.7 Consensus Algorithm\n",
    "\n",
    "#### Which transactions are the valid ones? (Mining)"
   ]
  },
  {
   "cell_type": "markdown",
   "metadata": {},
   "source": [
    "<!-- ## Security Problems -->\n",
    "<!-- (Überleitung) -->\n",
    "\n",
    "\n",
    "<!-- Sehr sehr wichtig: -->\n",
    "<!-- https://bitcoin.org/en/bitcoin-core/features/validation -->"
   ]
  },
  {
   "cell_type": "markdown",
   "metadata": {},
   "source": []
  }
 ],
 "metadata": {
  "kernelspec": {
   "display_name": "venv",
   "language": "python",
   "name": "python3"
  },
  "language_info": {
   "codemirror_mode": {
    "name": "ipython",
    "version": 3
   },
   "file_extension": ".py",
   "mimetype": "text/x-python",
   "name": "python",
   "nbconvert_exporter": "python",
   "pygments_lexer": "ipython3",
   "version": "3.12.3"
  }
 },
 "nbformat": 4,
 "nbformat_minor": 2
}
