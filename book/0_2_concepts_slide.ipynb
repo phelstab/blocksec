{
 "cells": [
  {
   "cell_type": "markdown",
   "metadata": {},
   "source": [
    "# Fundamentals and Principles of Blockchains"
   ]
  },
  {
   "cell_type": "markdown",
   "metadata": {},
   "source": [
    "## Block Structure\n",
    "<img src=\"../_static/images/Blockchain_Block.drawio.png\">"
   ]
  },
  {
   "cell_type": "markdown",
   "metadata": {},
   "source": [
    "**Block Header**:\n",
    "* Block Hash: hash of the block\n",
    "* Previous Block Hash: hash of the previous block\n",
    "* Version: version of the block\n",
    "* Merkle Root: hash of the merkle tree/tree of transactions\n",
    "* Timestamp: time of block creation\n",
    "* Nonce: random number used in mining\n",
    "* Difficulty Target: mining difficulty in PoW-based consensus {cite}`overview:inproceedings`\n",
    "\n",
    "**Block Body**:\n",
    "* Transactions: list of transactions within the block"
   ]
  },
  {
   "cell_type": "markdown",
   "metadata": {},
   "source": [
    "## Structure of a Blockchain\n",
    "<img src=\"../_static/images/Blockchain.drawio.png\">"
   ]
  },
  {
   "cell_type": "markdown",
   "metadata": {},
   "source": [
    "## Transactions"
   ]
  },
  {
   "cell_type": "markdown",
   "metadata": {},
   "source": [
    "Basic elements of a transaction:\n",
    "* Sender's Address (public key)\n",
    "* Receiver's Address (public key)\n",
    "* Amount \n",
    "* Signature (transaction is signed by sender's private key)"
   ]
  },
  {
   "cell_type": "markdown",
   "metadata": {},
   "source": [
    "Transaction lifecycle: {cite}`cryptoBitcoinTransactions:online`\n",
    "1. Transaction is created\n",
    "2. Transaction is broadcasted to the network\n",
    "3. Transaction is validated by nodes\n",
    "4. Transaction is included in a block\n",
    "5. Block is mined and added to the blockchain"
   ]
  },
  {
   "cell_type": "markdown",
   "metadata": {},
   "source": [
    "## Example Transaction\n",
    "```json\n",
    "{\n",
    "  \"txid\": \"1eabcde1234567890abcdef1234567890abcdef1234567890abcdef1234567890\",\n",
    "  \"version\": 1,\n",
    "  \"locktime\": 0,\n",
    "  \"vin\": [\n",
    "    {\n",
    "      \"txid\": \"abcdef1234567890abcdef1234567890abcdef1234567890abcdef1234567890\",\n",
    "      \"vout\": 0,\n",
    "      \"scriptSig\": {\n",
    "        \"asm\": \"3045022100e3b0c44298fc1c149afbf4c8996fb92427ae41e4649b934ca495991b7852b855022100fb4b0a063b5f7f8a5c47b7e9e527e55e3e55ffb015e9078578b7d7c8f1fa3d4e\",\n",
    "        \"hex\": \"483045022100e3b0c44298fc1c149afbf4c8996fb92427ae41e4649b934ca495991b7852b855022100fb4b0a063b5f7f8a5c47b7e9e527e55e3e55ffb015e9078578b7d7c8f1fa3d4e\"\n",
    "      },\n",
    "      \"sequence\": 4294967295\n",
    "    }\n",
    "  ],\n",
    "  \"vout\": [\n",
    "    {\n",
    "      \"value\": 0.50000000,\n",
    "      \"n\": 0,\n",
    "      \"scriptPubKey\": {\n",
    "        \"asm\": \"OP_DUP OP_HASH160 89abcdefabbaabbaabbaabbaabbaabbaabbaabbaabba OP_EQUALVERIFY OP_CHECKSIG\",\n",
    "        \"hex\": \"76a91489abcdefabbaabbaabbaabbaabbaabbaabbaabba88ac\",\n",
    "        \"reqSigs\": 1,\n",
    "        \"type\": \"pubkeyhash\",\n",
    "        \"addresses\": [\n",
    "          \"1Ez69SnzzmePmZX3WpEzMKTrcBF2gpNQ55\"\n",
    "        ]\n",
    "      }\n",
    "    },\n",
    "    {\n",
    "      \"value\": 0.49900000,\n",
    "      \"n\": 1,\n",
    "      \"scriptPubKey\": {\n",
    "        \"asm\": \"OP_DUP OP_HASH160 89abcdefabbaabbaabbaabbaabbaabbaabbaabbaabba OP_EQUALVERIFY OP_CHECKSIG\",\n",
    "        \"hex\": \"76a91489abcdefabbaabbaabbaabbaabbaabbaabbaabba88ac\",\n",
    "        \"reqSigs\": 1,\n",
    "        \"type\": \"pubkeyhash\",\n",
    "        \"addresses\": [\n",
    "          \"1A1zP1eP5QGefi2DMPTfTL5SLmv7DivfNa\"\n",
    "        ]\n",
    "      }\n",
    "    }\n",
    "  ]\n",
    "}\n",
    "```\n"
   ]
  },
  {
   "cell_type": "markdown",
   "metadata": {},
   "source": [
    "1. Alice wants to send 0.5 BTC to Bob. \n",
    "   * Inputs: Alice’s address, Bob’s address, amount (0.5 BTC), fee (0.001 BTC).\n",
    "   * Outputs: Transaction outputs include the amount being sent to Bob and any change back to Alice.\n",
    "   * Signature: Alice signs the transaction with her private key. \n",
    "2. Transaction Broadcast:\n",
    "   * Alice’s transaction is broadcast to the Bitcoin network. \n",
    "3. Miners Validate:\n",
    "   * Miners validate the transaction, checking Alice’s balance and the signature. \n",
    "4. Inclusion in a Block:\n",
    "   * Once validated, the transaction is included in the next mined block.\n",
    "5. Confirmation:\n",
    "   * Bob sees the transaction after it’s included in a block and has been confirmed by the network.\n"
   ]
  },
  {
   "cell_type": "markdown",
   "metadata": {},
   "source": [
    "## The role of nodes\n",
    "Types of nodes:\n",
    "* Full Nodes: store the entire blockchain, validate and relay transactions and blocks\n",
    "* Light Nodes: store only block headers, rely on full nodes for transaction validation\n",
    "* Mining Nodes: specialized full nodes that participate in the consensus mechanism\n"
   ]
  },
  {
   "cell_type": "markdown",
   "metadata": {},
   "source": [
    "Node Functions:\n",
    "* Maintaining Blockchain Copy: Every full node keeps a copy of the entire blockchain\n",
    "* Validating Transactions: Ensure all transactions comply with network rules before adding them to a block\n",
    "  * Double-spending: Ensure that the same funds are not spent twice\n",
    "  * Transaction format: Check that the transaction is properly formatted\n",
    "  * Transaction signature: Verify that the transaction is signed by the correct private key\n",
    "  * Transaction validity: Ensure that the sender has enough funds to complete the transaction\n",
    "  * Transaction history: Check that the transaction does not conflict with previous transactions\n",
    "* Relaying Information: Propagate transactions and blocks throughout the network to ensure synchronization"
   ]
  },
  {
   "cell_type": "markdown",
   "metadata": {},
   "source": [
    "## Consensus Mechanisms\n",
    "* Hard to achieve agreement in a decentralized network\n",
    "* Ensure that all nodes agree on the state of the blockchain\n",
    "* Prevent double-spending and other malicious activities"
   ]
  },
  {
   "cell_type": "markdown",
   "metadata": {},
   "source": [
    "Types of Consensus Mechanisms:\n",
    "* Proof of Work (PoW): Miners solve complex mathematical puzzles to validate transactions and create new blocks\n",
    "* Proof of Stake (PoS): Validators are chosen based on the number of coins they hold\n",
    "* Delegate Proof of Stake (DPoS): Validators are elected by coin holders to create new blocks\n",
    "* Practical Byzantine Fault Tolerance (PBFT): Nodes reach consensus through a series of voting rounds"
   ]
  },
  {
   "cell_type": "markdown",
   "metadata": {},
   "source": [
    "## Proof of Work (PoW)"
   ]
  },
  {
   "cell_type": "markdown",
   "metadata": {},
   "source": [
    "* random selection prone to attacks -> nodes should prove they did work required to propose a new block\n",
    "* concept adapted from digital tokens by Hal Finney in 2004 through the idea of \"reusable proof of work\" using SHA-1 {cite}`nakamotoinstituteRPOWReusable:online`\n",
    "  * each node of the network is calculating a hash value of the block header\n",
    "  * the first node to find a hash value below a certain threshold is allowed to propose a new block\n",
    "  * when reaching the target value, it broadcasts the block to other nodes\n",
    "  * all other nodes must mutually confirm the correctness of the hash value\n",
    "  * if the hash value is correct, the block is added to the blockchain"
   ]
  },
  {
   "cell_type": "markdown",
   "metadata": {},
   "source": [
    "## Proof of Work (PoW) II"
   ]
  },
  {
   "cell_type": "markdown",
   "metadata": {},
   "source": [
    "* in decentralized network, multiple blocks might be generated simultaneously -> blockchain branches\n",
    "* longest chain rule: the chain with the most accumulated proof of work is considered the correct one\n",
    "* PoW is energy-intensive and slow -> scalability issues\n",
    "* PoW (or mining) is used in Bitcoin, Ethereum (until 2022), and other cryptocurrencies\n",
    "* PoW in Bitcoin based on SHA-256 hash function\n",
    "* Bitcoin adjusts the mining difficulty every 2016 blocks to maintain a 10-minute block time"
   ]
  }
 ],
 "metadata": {
  "language_info": {
   "name": "python"
  }
 },
 "nbformat": 4,
 "nbformat_minor": 2
}
